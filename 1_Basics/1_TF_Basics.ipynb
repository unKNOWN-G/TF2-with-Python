{
 "cells": [
  {
   "cell_type": "markdown",
   "id": "8cb82c92",
   "metadata": {},
   "source": [
    "## 1. Headers and Imports"
   ]
  },
  {
   "cell_type": "code",
   "execution_count": 2,
   "id": "99638089",
   "metadata": {},
   "outputs": [],
   "source": [
    "import tensorflow as tf"
   ]
  },
  {
   "cell_type": "code",
   "execution_count": 2,
   "id": "ef984a62",
   "metadata": {},
   "outputs": [
    {
     "data": {
      "text/plain": [
       "[PhysicalDevice(name='/physical_device:CPU:0', device_type='CPU'),\n",
       " PhysicalDevice(name='/physical_device:GPU:0', device_type='GPU')]"
      ]
     },
     "execution_count": 2,
     "metadata": {},
     "output_type": "execute_result"
    }
   ],
   "source": [
    "tf.config.list_physical_devices(device_type=None)"
   ]
  },
  {
   "cell_type": "markdown",
   "id": "ca35e2fd",
   "metadata": {},
   "source": [
    "## 2. Initializations"
   ]
  },
  {
   "cell_type": "code",
   "execution_count": 8,
   "id": "3920c227",
   "metadata": {},
   "outputs": [
    {
     "name": "stdout",
     "output_type": "stream",
     "text": [
      "<tf.Variable 'Variable:0' shape=() dtype=int32, numpy=1>\n",
      "tf.Tensor(2, shape=(), dtype=int32)\n",
      "tf.Tensor(\n",
      "[[1. 0. 0.]\n",
      " [0. 1. 0.]\n",
      " [0. 0. 1.]], shape=(3, 3), dtype=float32)\n",
      "tf.Tensor(\n",
      "[[1. 1. 1.]\n",
      " [1. 1. 1.]], shape=(2, 3), dtype=float32)\n",
      "tf.Tensor(\n",
      "[[0. 0. 0.]\n",
      " [0. 0. 0.]], shape=(2, 3), dtype=float32)\n",
      "tf.Tensor([0 1 2 3 4 5 6 7 8 9], shape=(10,), dtype=int32)\n",
      "tf.Tensor(\n",
      "[[-1.3544159   0.7045493   0.03666191]\n",
      " [ 0.86918795  0.43842277 -0.53439844]], shape=(2, 3), dtype=float32)\n",
      "tf.Tensor([ 0.43842277 -0.53439844], shape=(2,), dtype=float32)\n"
     ]
    }
   ],
   "source": [
    "variable_type = tf.Variable(1)\n",
    "print(variable_type)\n",
    "\n",
    "constant_type = tf.constant(2)\n",
    "print(constant_type)\n",
    "\n",
    "diagonal_type = tf.eye(3)\n",
    "print(diagonal_type)\n",
    "\n",
    "ones_type = tf.ones((2,3))\n",
    "print(ones_type)\n",
    "\n",
    "zeros_type = tf.zeros((2,3))\n",
    "print(zeros_type)\n",
    "\n",
    "range_of_num = tf.range(10)\n",
    "print(range_of_num)\n",
    "\n",
    "random_num = tf.random.normal((2, 3))\n",
    "print(random_num)\n",
    "\n",
    "# Slicing\n",
    "print(random_num[1,1:3])"
   ]
  },
  {
   "cell_type": "markdown",
   "id": "a885b7c3",
   "metadata": {},
   "source": [
    "## 3. Reassignment\n",
    "- In general Tensors cant be reassigned after defining them\n",
    "- To reassign them in the same **memory**, we use tf.compat.v1.assign command"
   ]
  },
  {
   "cell_type": "code",
   "execution_count": 16,
   "id": "9cb05304",
   "metadata": {},
   "outputs": [
    {
     "name": "stdout",
     "output_type": "stream",
     "text": [
      "<tf.Variable 'UnreadVariable' shape=(2, 3) dtype=float32, numpy=\n",
      "array([[0., 0., 0.],\n",
      "       [0., 0., 0.]], dtype=float32)>\n"
     ]
    }
   ],
   "source": [
    "new_var = tf.Variable(ones_type)\n",
    "ones_type = tf.compat.v1.assign(new_var,zeros_type, validate_shape=None, use_locking=None, name=None)\n",
    "print(ones_type)"
   ]
  },
  {
   "cell_type": "markdown",
   "id": "3ff6a6ea",
   "metadata": {},
   "source": [
    "## 4. Math"
   ]
  },
  {
   "cell_type": "code",
   "execution_count": 25,
   "id": "f6b55cd9",
   "metadata": {},
   "outputs": [
    {
     "name": "stdout",
     "output_type": "stream",
     "text": [
      "tf.Tensor(3, shape=(), dtype=int32)\n",
      "tf.Tensor(-1, shape=(), dtype=int32)\n",
      "tf.Tensor(2, shape=(), dtype=int32)\n",
      "tf.Tensor(0.5, shape=(), dtype=float64)\n",
      "tf.Tensor(1, shape=(), dtype=int32)\n",
      "tf.Tensor(1, shape=(), dtype=int32)\n",
      "tf.Tensor(7.3890557, shape=(), dtype=float32)\n"
     ]
    }
   ],
   "source": [
    "add_val = variable_type + constant_type\n",
    "print(add_val)\n",
    "\n",
    "sub_val = variable_type - constant_type\n",
    "print(sub_val)\n",
    "\n",
    "mul_val = variable_type * constant_type\n",
    "print(mul_val)\n",
    "\n",
    "div_val = variable_type / constant_type\n",
    "print(div_val)\n",
    "\n",
    "reminder_val = variable_type % constant_type\n",
    "print(reminder_val)\n",
    "\n",
    "power_val = variable_type**constant_type\n",
    "print(power_val)\n",
    "\n",
    "math_exp_val = tf.math.exp(2.0)\n",
    "print(math_exp_val)"
   ]
  },
  {
   "cell_type": "markdown",
   "id": "73ba893a",
   "metadata": {},
   "source": [
    "## 5. BroadCasting"
   ]
  },
  {
   "cell_type": "code",
   "execution_count": 27,
   "id": "ce0fc2c0",
   "metadata": {},
   "outputs": [
    {
     "name": "stdout",
     "output_type": "stream",
     "text": [
      "tf.Tensor(\n",
      "[[-1.3544159   0.7045493   0.03666191]\n",
      " [ 0.86918795  0.43842277 -0.53439844]], shape=(2, 3), dtype=float32)\n",
      "tf.Tensor(\n",
      "[[0.6455841 2.7045493 2.0366619]\n",
      " [2.8691878 2.4384227 1.4656016]], shape=(2, 3), dtype=float32)\n"
     ]
    }
   ],
   "source": [
    "random_num = tf.random.normal((2, 3))\n",
    "print(random_num)\n",
    "\n",
    "random_num_new = random_num+2\n",
    "print(random_num_new)"
   ]
  },
  {
   "cell_type": "markdown",
   "id": "10a291ab",
   "metadata": {},
   "source": [
    "## 6. Matrix Operations"
   ]
  },
  {
   "cell_type": "code",
   "execution_count": 18,
   "id": "be64363b",
   "metadata": {},
   "outputs": [
    {
     "name": "stdout",
     "output_type": "stream",
     "text": [
      "tf.Tensor(\n",
      "[[16 24]\n",
      " [44 76]], shape=(2, 2), dtype=int32)\n",
      "tf.Tensor(\n",
      "[[16 24]\n",
      " [44 76]], shape=(2, 2), dtype=int32)\n",
      "tf.Tensor(\n",
      "[[16 24]\n",
      " [44 76]], shape=(2, 2), dtype=int32)\n",
      "tf.Tensor([[16 24 44 76]], shape=(1, 4), dtype=int32)\n",
      "tf.Tensor(\n",
      "[[16 44]\n",
      " [24 76]], shape=(2, 2), dtype=int32)\n"
     ]
    }
   ],
   "source": [
    "x = tf.constant([[1, 3],[9, 7]])\n",
    "y = tf.constant([[1, 3],[5, 7]])\n",
    "\n",
    "dot_val = tf.tensordot(x,y,axes = 1)\n",
    "print(dot_val)\n",
    "\n",
    "mat_mul = tf.matmul(x,y)\n",
    "print(mat_mul)\n",
    "\n",
    "mat_mul_2 = x@y\n",
    "print(mat_mul_2)\n",
    "\n",
    "mat_mul_reshaped = tf.reshape(mat_mul, (1,4))\n",
    "print(mat_mul_reshaped)\n",
    "\n",
    "mat_mul_transposed = tf.transpose(mat_mul)\n",
    "print(mat_mul_transposed)"
   ]
  },
  {
   "cell_type": "markdown",
   "id": "b7d11919",
   "metadata": {},
   "source": [
    "## 7. Slicing, Shuffling, Batching, Repeat\n",
    "- The reason for using repeat is During batching, incase of batchsize which doesnt equally divide dataset, it would use the dataset again to fill gaps\n",
    "- Dont Know Why i am not able to see data, mayble its because i have to run the session. Need to look at this"
   ]
  },
  {
   "cell_type": "code",
   "execution_count": 66,
   "id": "69f7a259",
   "metadata": {},
   "outputs": [
    {
     "name": "stdout",
     "output_type": "stream",
     "text": [
      "<BatchDataset element_spec=(TensorSpec(shape=(None, 3), dtype=tf.float32, name=None), TensorSpec(shape=(None, 1), dtype=tf.float32, name=None))>\n"
     ]
    }
   ],
   "source": [
    "x = tf.random.normal((10,3))\n",
    "y = tf.random.uniform((10,1))\n",
    "dataset = tf.data.Dataset.from_tensor_slices((x,y))\n",
    "\n",
    "shuffled_data = dataset.shuffle(1000).repeat()\n",
    "batch_data = shuffled_data.batch(200)\n",
    "\n",
    "print(batch_data)"
   ]
  },
  {
   "cell_type": "markdown",
   "id": "edfb670d",
   "metadata": {},
   "source": [
    "## 8. Gradients"
   ]
  },
  {
   "cell_type": "code",
   "execution_count": 77,
   "id": "5631e21c",
   "metadata": {},
   "outputs": [
    {
     "name": "stdout",
     "output_type": "stream",
     "text": [
      "tf.Tensor(\n",
      "[[6.6614576e-02 4.0922651e+00 1.0760789e+00]\n",
      " [5.6880975e+00 2.4033065e+00 3.4342140e-01]\n",
      " [8.5709554e-01 2.2910820e+01 8.1671178e-01]\n",
      " [5.7752991e-01 1.7131725e+01 1.2452147e+01]\n",
      " [4.1777250e-01 1.9706668e-02 8.7893027e-01]\n",
      " [1.2079237e-01 7.4173884e+00 3.8459759e+00]\n",
      " [1.1499909e+00 5.9869766e-02 7.8123426e+00]\n",
      " [1.7497662e+00 9.7340101e-01 4.0059349e+01]\n",
      " [6.9672627e+00 1.2892772e-01 2.7012116e-01]\n",
      " [5.5168635e-01 7.0787035e-02 1.7783983e+00]], shape=(10, 3), dtype=float32)\n",
      "tf.Tensor(\n",
      "[[1.33229151e-01 8.18453026e+00 2.15215778e+00]\n",
      " [1.13761950e+01 4.80661297e+00 6.86842799e-01]\n",
      " [1.71419108e+00 4.58216400e+01 1.63342357e+00]\n",
      " [1.15505981e+00 3.42634506e+01 2.49042931e+01]\n",
      " [8.35545003e-01 3.94133367e-02 1.75786054e+00]\n",
      " [2.41584733e-01 1.48347769e+01 7.69195175e+00]\n",
      " [2.29998183e+00 1.19739532e-01 1.56246853e+01]\n",
      " [3.49953246e+00 1.94680202e+00 8.01186981e+01]\n",
      " [1.39345255e+01 2.57855445e-01 5.40242314e-01]\n",
      " [1.10337269e+00 1.41574070e-01 3.55679655e+00]], shape=(10, 3), dtype=float32)\n"
     ]
    }
   ],
   "source": [
    "with tf.GradientTape() as tape:\n",
    "    tape.watch(x)\n",
    "    new_y = tf.math.exp(x*2)\n",
    "gradient_data = tape.gradient(new_y,x)\n",
    "\n",
    "print(new_y)\n",
    "print(gradient_data)"
   ]
  },
  {
   "cell_type": "markdown",
   "id": "94c788c2",
   "metadata": {},
   "source": [
    "## 9. References\n",
    "1. https://lyhue1991.github.io/eat_tensorflow2_in_30_days/\n",
    "2. https://github.com/aladdinpersson/Machine-Learning-Collection/blob/master/ML/TensorFlow/Basics/tutorial3-neuralnetwork.py"
   ]
  }
 ],
 "metadata": {
  "kernelspec": {
   "display_name": "Python (GPU_SUP)",
   "language": "python",
   "name": "gpu_sup"
  },
  "language_info": {
   "codemirror_mode": {
    "name": "ipython",
    "version": 3
   },
   "file_extension": ".py",
   "mimetype": "text/x-python",
   "name": "python",
   "nbconvert_exporter": "python",
   "pygments_lexer": "ipython3",
   "version": "3.8.13"
  }
 },
 "nbformat": 4,
 "nbformat_minor": 5
}
