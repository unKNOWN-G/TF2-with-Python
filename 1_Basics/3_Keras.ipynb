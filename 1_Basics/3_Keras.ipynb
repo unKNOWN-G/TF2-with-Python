{
 "cells": [
  {
   "cell_type": "markdown",
   "id": "adcd30fc",
   "metadata": {},
   "source": [
    "## Document Structure\n",
    "1. Headers and Imports\n",
    "2. Importing Data\n",
    "3. Data Splitting\n",
    "4. Modelling\n",
    "    - 4.1 Model Structure\n",
    "    - 4.2 Loss, Optimizer, Metric, Validation\n",
    "    - 4.3 Callbacks\n",
    "    - 4.4 Model Evaluation (On Train Data)\n",
    "    - 4.5 Model Prediction\n",
    "5. Model Evaluation (On Test Data)\n",
    "6. Saving a model"
   ]
  },
  {
   "cell_type": "markdown",
   "id": "c62d4ca7",
   "metadata": {},
   "source": [
    "## 1. Headers and Imports"
   ]
  },
  {
   "cell_type": "code",
   "execution_count": 1,
   "id": "264c4ccb",
   "metadata": {},
   "outputs": [],
   "source": [
    "# Computational Libraries\n",
    "import tensorflow as tf\n",
    "import numpy as np\n",
    "import pandas as pd\n",
    "\n",
    "# Train Test Split\n",
    "from sklearn.model_selection import train_test_split\n",
    "\n",
    "# Keras Modelling Imports\n",
    "from tensorflow import keras\n",
    "from keras.models import Sequential\n",
    "from keras.layers import Dense,Activation,Layer,Lambda\n",
    "\n",
    "# Keras Callbacks\n",
    "from keras.callbacks import LearningRateScheduler, ModelCheckpoint, EarlyStopping, TensorBoard, CSVLogger\n",
    "\n",
    "# Visualization Libraries\n",
    "import matplotlib.pyplot as plt\n",
    "import seaborn as sns\n",
    "\n",
    "# Metric Libraries\n",
    "from sklearn.metrics import confusion_matrix, ConfusionMatrixDisplay\n",
    "from sklearn.metrics import classification_report\n",
    "\n",
    "%matplotlib inline"
   ]
  },
  {
   "cell_type": "markdown",
   "id": "c69918f0",
   "metadata": {},
   "source": [
    "## 2. Importing Data"
   ]
  },
  {
   "cell_type": "code",
   "execution_count": 2,
   "id": "80ee2977",
   "metadata": {},
   "outputs": [
    {
     "data": {
      "text/html": [
       "<div>\n",
       "<style scoped>\n",
       "    .dataframe tbody tr th:only-of-type {\n",
       "        vertical-align: middle;\n",
       "    }\n",
       "\n",
       "    .dataframe tbody tr th {\n",
       "        vertical-align: top;\n",
       "    }\n",
       "\n",
       "    .dataframe thead th {\n",
       "        text-align: right;\n",
       "    }\n",
       "</style>\n",
       "<table border=\"1\" class=\"dataframe\">\n",
       "  <thead>\n",
       "    <tr style=\"text-align: right;\">\n",
       "      <th></th>\n",
       "      <th>Survived</th>\n",
       "      <th>Pclass</th>\n",
       "      <th>Age</th>\n",
       "      <th>SibSp</th>\n",
       "      <th>Parch</th>\n",
       "      <th>Fare</th>\n",
       "      <th>Sex_female</th>\n",
       "      <th>Sex_male</th>\n",
       "      <th>Embarked_C</th>\n",
       "      <th>Embarked_Q</th>\n",
       "      <th>Embarked_S</th>\n",
       "    </tr>\n",
       "  </thead>\n",
       "  <tbody>\n",
       "    <tr>\n",
       "      <th>0</th>\n",
       "      <td>0</td>\n",
       "      <td>3</td>\n",
       "      <td>22.0</td>\n",
       "      <td>1</td>\n",
       "      <td>0</td>\n",
       "      <td>7.2500</td>\n",
       "      <td>0</td>\n",
       "      <td>1</td>\n",
       "      <td>0</td>\n",
       "      <td>0</td>\n",
       "      <td>1</td>\n",
       "    </tr>\n",
       "    <tr>\n",
       "      <th>1</th>\n",
       "      <td>1</td>\n",
       "      <td>1</td>\n",
       "      <td>38.0</td>\n",
       "      <td>1</td>\n",
       "      <td>0</td>\n",
       "      <td>71.2833</td>\n",
       "      <td>1</td>\n",
       "      <td>0</td>\n",
       "      <td>1</td>\n",
       "      <td>0</td>\n",
       "      <td>0</td>\n",
       "    </tr>\n",
       "    <tr>\n",
       "      <th>2</th>\n",
       "      <td>1</td>\n",
       "      <td>3</td>\n",
       "      <td>26.0</td>\n",
       "      <td>0</td>\n",
       "      <td>0</td>\n",
       "      <td>7.9250</td>\n",
       "      <td>1</td>\n",
       "      <td>0</td>\n",
       "      <td>0</td>\n",
       "      <td>0</td>\n",
       "      <td>1</td>\n",
       "    </tr>\n",
       "    <tr>\n",
       "      <th>3</th>\n",
       "      <td>1</td>\n",
       "      <td>1</td>\n",
       "      <td>35.0</td>\n",
       "      <td>1</td>\n",
       "      <td>0</td>\n",
       "      <td>53.1000</td>\n",
       "      <td>1</td>\n",
       "      <td>0</td>\n",
       "      <td>0</td>\n",
       "      <td>0</td>\n",
       "      <td>1</td>\n",
       "    </tr>\n",
       "    <tr>\n",
       "      <th>4</th>\n",
       "      <td>0</td>\n",
       "      <td>3</td>\n",
       "      <td>35.0</td>\n",
       "      <td>0</td>\n",
       "      <td>0</td>\n",
       "      <td>8.0500</td>\n",
       "      <td>0</td>\n",
       "      <td>1</td>\n",
       "      <td>0</td>\n",
       "      <td>0</td>\n",
       "      <td>1</td>\n",
       "    </tr>\n",
       "  </tbody>\n",
       "</table>\n",
       "</div>"
      ],
      "text/plain": [
       "   Survived  Pclass   Age  SibSp  Parch     Fare  Sex_female  Sex_male  \\\n",
       "0         0       3  22.0      1      0   7.2500           0         1   \n",
       "1         1       1  38.0      1      0  71.2833           1         0   \n",
       "2         1       3  26.0      0      0   7.9250           1         0   \n",
       "3         1       1  35.0      1      0  53.1000           1         0   \n",
       "4         0       3  35.0      0      0   8.0500           0         1   \n",
       "\n",
       "   Embarked_C  Embarked_Q  Embarked_S  \n",
       "0           0           0           1  \n",
       "1           1           0           0  \n",
       "2           0           0           1  \n",
       "3           0           0           1  \n",
       "4           0           0           1  "
      ]
     },
     "execution_count": 2,
     "metadata": {},
     "output_type": "execute_result"
    }
   ],
   "source": [
    "df = pd.read_csv(\"./Processed_Data/titanic/train.csv\")\n",
    "df.head()"
   ]
  },
  {
   "cell_type": "markdown",
   "id": "52fe12fe",
   "metadata": {},
   "source": [
    "## 3. Data Splitting"
   ]
  },
  {
   "cell_type": "code",
   "execution_count": 3,
   "id": "50165128",
   "metadata": {},
   "outputs": [],
   "source": [
    "labels = df[\"Survived\"]\n",
    "features = df.drop(columns= [\"Survived\"])"
   ]
  },
  {
   "cell_type": "code",
   "execution_count": 4,
   "id": "f21be4ec",
   "metadata": {},
   "outputs": [
    {
     "name": "stdout",
     "output_type": "stream",
     "text": [
      "Shape of Training Set \n",
      " X_Train : (800, 10)\n",
      " Y_Train : (800,)\n",
      "Shape of Evaluation Set \n",
      " X_Train : (89, 10)\n",
      " Y_Train : (89,)\n"
     ]
    }
   ],
   "source": [
    "X_train, X_test, Y_train, Y_test = train_test_split(features,labels,test_size = 0.1, random_state = 33)\n",
    "print(f\"Shape of Training Set \\n X_Train : {X_train.shape}\\n Y_Train : {Y_train.shape}\")\n",
    "print(f\"Shape of Evaluation Set \\n X_Train : {X_test.shape}\\n Y_Train : {Y_test.shape}\")"
   ]
  },
  {
   "cell_type": "markdown",
   "id": "5eb0c996",
   "metadata": {},
   "source": [
    "## 4. Modelling\n"
   ]
  },
  {
   "cell_type": "markdown",
   "id": "d5153cbe",
   "metadata": {},
   "source": [
    "### 4.1 Model Structure"
   ]
  },
  {
   "cell_type": "code",
   "execution_count": 5,
   "id": "aeafd9c4",
   "metadata": {},
   "outputs": [
    {
     "name": "stdout",
     "output_type": "stream",
     "text": [
      "Metal device set to: Apple M1 Pro\n",
      "Model: \"sequential\"\n",
      "_________________________________________________________________\n",
      " Layer (type)                Output Shape              Param #   \n",
      "=================================================================\n",
      " dense (Dense)               (None, 100)               1100      \n",
      "                                                                 \n",
      " dense_1 (Dense)             (None, 100)               10100     \n",
      "                                                                 \n",
      " dense_2 (Dense)             (None, 100)               10100     \n",
      "                                                                 \n",
      " dense_3 (Dense)             (None, 100)               10100     \n",
      "                                                                 \n",
      " dense_4 (Dense)             (None, 100)               10100     \n",
      "                                                                 \n",
      " dense_5 (Dense)             (None, 1)                 101       \n",
      "                                                                 \n",
      "=================================================================\n",
      "Total params: 41,601\n",
      "Trainable params: 41,601\n",
      "Non-trainable params: 0\n",
      "_________________________________________________________________\n"
     ]
    },
    {
     "name": "stderr",
     "output_type": "stream",
     "text": [
      "2022-11-27 15:16:57.153964: I tensorflow/core/common_runtime/pluggable_device/pluggable_device_factory.cc:306] Could not identify NUMA node of platform GPU ID 0, defaulting to 0. Your kernel may not have been built with NUMA support.\n",
      "2022-11-27 15:16:57.154086: I tensorflow/core/common_runtime/pluggable_device/pluggable_device_factory.cc:272] Created TensorFlow device (/job:localhost/replica:0/task:0/device:GPU:0 with 0 MB memory) -> physical PluggableDevice (device: 0, name: METAL, pci bus id: <undefined>)\n"
     ]
    }
   ],
   "source": [
    "# Defining Model Structure\n",
    "model = Sequential()\n",
    "model.add(Dense(100,input_shape = (10,),kernel_initializer=  \"uniform\" ,activation=\"relu\"))\n",
    "model.add(Dense(100,kernel_initializer=  \"uniform\" ,activation=\"relu\"))\n",
    "model.add(Dense(100,kernel_initializer=  \"uniform\" ,activation=\"relu\"))\n",
    "model.add(Dense(100,kernel_initializer=  \"uniform\" ,activation=\"relu\"))\n",
    "model.add(Dense(100,kernel_initializer=  \"uniform\" ,activation=\"relu\"))\n",
    "model.add(Dense(1,activation = \"sigmoid\"))\n",
    "model.summary()"
   ]
  },
  {
   "cell_type": "markdown",
   "id": "c7ffc222",
   "metadata": {},
   "source": [
    "### 4.2 Loss, Optimizer, Metric, Validation"
   ]
  },
  {
   "cell_type": "code",
   "execution_count": 6,
   "id": "fe1f7f5f",
   "metadata": {},
   "outputs": [],
   "source": [
    "# Defining Loss, Optimizer, Metric, Validation\n",
    "model.compile(loss = 'binary_crossentropy',\n",
    "              optimizer= keras.optimizers.Adam(learning_rate=0.0001),\n",
    "              metrics = ['accuracy'])"
   ]
  },
  {
   "cell_type": "markdown",
   "id": "dc4a3487",
   "metadata": {},
   "source": [
    "### 4.3 Callbacks"
   ]
  },
  {
   "cell_type": "code",
   "execution_count": 7,
   "id": "871c0e6e",
   "metadata": {},
   "outputs": [],
   "source": [
    "# Callbacks\n",
    "# lr_schedule = LearningRateScheduler(lambda epoch: 1e-8 * 10**(epoch / 20))\n",
    "acc_check  = ModelCheckpoint(filepath = \"./Saved_Models/keras/acc_{accuracy:.2f} - loss_{loss:.2f}.h5\",\n",
    "                            monitor = \"accuracy\",\n",
    "                            save_best_only= True,\n",
    "                            mode = \"max\")\n",
    "early_stop = EarlyStopping(monitor = \"loss\", patience = 10)\n",
    "\n",
    "callbacks = [acc_check, early_stop]"
   ]
  },
  {
   "cell_type": "code",
   "execution_count": 8,
   "id": "0d4ad102",
   "metadata": {
    "scrolled": true
   },
   "outputs": [
    {
     "name": "stdout",
     "output_type": "stream",
     "text": [
      "Epoch 1/100\n"
     ]
    },
    {
     "name": "stderr",
     "output_type": "stream",
     "text": [
      "2022-11-27 15:16:57.320160: W tensorflow/core/platform/profile_utils/cpu_utils.cc:128] Failed to get CPU frequency: 0 Hz\n"
     ]
    },
    {
     "name": "stdout",
     "output_type": "stream",
     "text": [
      "\r",
      " 1/25 [>.............................] - ETA: 9s - loss: 0.6931 - accuracy: 0.4375"
     ]
    },
    {
     "name": "stderr",
     "output_type": "stream",
     "text": [
      "2022-11-27 15:16:57.533891: I tensorflow/core/grappler/optimizers/custom_graph_optimizer_registry.cc:114] Plugin optimizer for device_type GPU is enabled.\n"
     ]
    },
    {
     "name": "stdout",
     "output_type": "stream",
     "text": [
      "25/25 [==============================] - 1s 8ms/step - loss: 0.6916 - accuracy: 0.6500\n",
      "Epoch 2/100\n",
      "25/25 [==============================] - 0s 8ms/step - loss: 0.6876 - accuracy: 0.6550\n",
      "Epoch 3/100\n",
      "25/25 [==============================] - 0s 8ms/step - loss: 0.6789 - accuracy: 0.6600\n",
      "Epoch 4/100\n",
      "25/25 [==============================] - 0s 8ms/step - loss: 0.6598 - accuracy: 0.6625\n",
      "Epoch 5/100\n",
      "25/25 [==============================] - 0s 8ms/step - loss: 0.6323 - accuracy: 0.6737\n",
      "Epoch 6/100\n",
      "25/25 [==============================] - 0s 8ms/step - loss: 0.6135 - accuracy: 0.6750\n",
      "Epoch 7/100\n",
      "25/25 [==============================] - 0s 8ms/step - loss: 0.6082 - accuracy: 0.6850\n",
      "Epoch 8/100\n",
      "25/25 [==============================] - 0s 7ms/step - loss: 0.6026 - accuracy: 0.6812\n",
      "Epoch 9/100\n",
      "25/25 [==============================] - 0s 8ms/step - loss: 0.6006 - accuracy: 0.6875\n",
      "Epoch 10/100\n",
      "25/25 [==============================] - 0s 8ms/step - loss: 0.5966 - accuracy: 0.6900\n",
      "Epoch 11/100\n",
      "25/25 [==============================] - 0s 8ms/step - loss: 0.5948 - accuracy: 0.6912\n",
      "Epoch 12/100\n",
      "25/25 [==============================] - 0s 6ms/step - loss: 0.5926 - accuracy: 0.6900\n",
      "Epoch 13/100\n",
      "25/25 [==============================] - 0s 6ms/step - loss: 0.5892 - accuracy: 0.6887\n",
      "Epoch 14/100\n",
      "25/25 [==============================] - 0s 6ms/step - loss: 0.5875 - accuracy: 0.6862\n",
      "Epoch 15/100\n",
      "25/25 [==============================] - 0s 7ms/step - loss: 0.5855 - accuracy: 0.6937\n",
      "Epoch 16/100\n",
      "25/25 [==============================] - 0s 7ms/step - loss: 0.5841 - accuracy: 0.6950\n",
      "Epoch 17/100\n",
      "25/25 [==============================] - 0s 6ms/step - loss: 0.5792 - accuracy: 0.6875\n",
      "Epoch 18/100\n",
      "25/25 [==============================] - 0s 6ms/step - loss: 0.5774 - accuracy: 0.6912\n",
      "Epoch 19/100\n",
      "25/25 [==============================] - 0s 6ms/step - loss: 0.5728 - accuracy: 0.6925\n",
      "Epoch 20/100\n",
      "25/25 [==============================] - 0s 6ms/step - loss: 0.5688 - accuracy: 0.6912\n",
      "Epoch 21/100\n",
      "25/25 [==============================] - 0s 7ms/step - loss: 0.5675 - accuracy: 0.7000\n",
      "Epoch 22/100\n",
      "25/25 [==============================] - 0s 6ms/step - loss: 0.5663 - accuracy: 0.6987\n",
      "Epoch 23/100\n",
      "25/25 [==============================] - 0s 6ms/step - loss: 0.5558 - accuracy: 0.6950\n",
      "Epoch 24/100\n",
      "25/25 [==============================] - 0s 6ms/step - loss: 0.5502 - accuracy: 0.6950\n",
      "Epoch 25/100\n",
      "25/25 [==============================] - 0s 7ms/step - loss: 0.5453 - accuracy: 0.7025\n",
      "Epoch 26/100\n",
      "25/25 [==============================] - 0s 7ms/step - loss: 0.5379 - accuracy: 0.7075\n",
      "Epoch 27/100\n",
      "25/25 [==============================] - 0s 7ms/step - loss: 0.5283 - accuracy: 0.7212\n",
      "Epoch 28/100\n",
      "25/25 [==============================] - 0s 7ms/step - loss: 0.5099 - accuracy: 0.7637\n",
      "Epoch 29/100\n",
      "25/25 [==============================] - 0s 8ms/step - loss: 0.5055 - accuracy: 0.7662\n",
      "Epoch 30/100\n",
      "25/25 [==============================] - 0s 7ms/step - loss: 0.4926 - accuracy: 0.7800\n",
      "Epoch 31/100\n",
      "25/25 [==============================] - 0s 8ms/step - loss: 0.4762 - accuracy: 0.7837\n",
      "Epoch 32/100\n",
      "25/25 [==============================] - 0s 6ms/step - loss: 0.4762 - accuracy: 0.7812\n",
      "Epoch 33/100\n",
      "25/25 [==============================] - 0s 7ms/step - loss: 0.4704 - accuracy: 0.7975\n",
      "Epoch 34/100\n",
      "25/25 [==============================] - 0s 8ms/step - loss: 0.4598 - accuracy: 0.8037\n",
      "Epoch 35/100\n",
      "25/25 [==============================] - 0s 7ms/step - loss: 0.4641 - accuracy: 0.7825\n",
      "Epoch 36/100\n",
      "25/25 [==============================] - 0s 7ms/step - loss: 0.4477 - accuracy: 0.8087\n",
      "Epoch 37/100\n",
      "25/25 [==============================] - 0s 6ms/step - loss: 0.4461 - accuracy: 0.8012\n",
      "Epoch 38/100\n",
      "25/25 [==============================] - 0s 6ms/step - loss: 0.4502 - accuracy: 0.7962\n",
      "Epoch 39/100\n",
      "25/25 [==============================] - 0s 6ms/step - loss: 0.4613 - accuracy: 0.8000\n",
      "Epoch 40/100\n",
      "25/25 [==============================] - 0s 6ms/step - loss: 0.4438 - accuracy: 0.8037\n",
      "Epoch 41/100\n",
      "25/25 [==============================] - 0s 6ms/step - loss: 0.4397 - accuracy: 0.8025\n",
      "Epoch 42/100\n",
      "25/25 [==============================] - 0s 7ms/step - loss: 0.4413 - accuracy: 0.8112\n",
      "Epoch 43/100\n",
      "25/25 [==============================] - 0s 6ms/step - loss: 0.4405 - accuracy: 0.8100\n",
      "Epoch 44/100\n",
      "25/25 [==============================] - 0s 6ms/step - loss: 0.4364 - accuracy: 0.8087\n",
      "Epoch 45/100\n",
      "25/25 [==============================] - 0s 6ms/step - loss: 0.4375 - accuracy: 0.7975\n",
      "Epoch 46/100\n",
      "25/25 [==============================] - 0s 6ms/step - loss: 0.4378 - accuracy: 0.8087\n",
      "Epoch 47/100\n",
      "25/25 [==============================] - 0s 6ms/step - loss: 0.4328 - accuracy: 0.8075\n",
      "Epoch 48/100\n",
      "25/25 [==============================] - 0s 6ms/step - loss: 0.4320 - accuracy: 0.8025\n",
      "Epoch 49/100\n",
      "25/25 [==============================] - 0s 7ms/step - loss: 0.4332 - accuracy: 0.8087\n",
      "Epoch 50/100\n",
      "25/25 [==============================] - 0s 7ms/step - loss: 0.4361 - accuracy: 0.8125\n",
      "Epoch 51/100\n",
      "25/25 [==============================] - 0s 6ms/step - loss: 0.4378 - accuracy: 0.8062\n",
      "Epoch 52/100\n",
      "25/25 [==============================] - 0s 7ms/step - loss: 0.4343 - accuracy: 0.8062\n",
      "Epoch 53/100\n",
      "25/25 [==============================] - 0s 8ms/step - loss: 0.4324 - accuracy: 0.8137\n",
      "Epoch 54/100\n",
      "25/25 [==============================] - 0s 6ms/step - loss: 0.4287 - accuracy: 0.8037\n",
      "Epoch 55/100\n",
      "25/25 [==============================] - 0s 6ms/step - loss: 0.4352 - accuracy: 0.8012\n",
      "Epoch 56/100\n",
      "25/25 [==============================] - 0s 6ms/step - loss: 0.4272 - accuracy: 0.8087\n",
      "Epoch 57/100\n",
      "25/25 [==============================] - 0s 7ms/step - loss: 0.4266 - accuracy: 0.8150\n",
      "Epoch 58/100\n",
      "25/25 [==============================] - 0s 6ms/step - loss: 0.4319 - accuracy: 0.8112\n",
      "Epoch 59/100\n",
      "25/25 [==============================] - 0s 6ms/step - loss: 0.4302 - accuracy: 0.8087\n",
      "Epoch 60/100\n",
      "25/25 [==============================] - 0s 6ms/step - loss: 0.4242 - accuracy: 0.8075\n",
      "Epoch 61/100\n",
      "25/25 [==============================] - 0s 6ms/step - loss: 0.4406 - accuracy: 0.8025\n",
      "Epoch 62/100\n",
      "25/25 [==============================] - 0s 6ms/step - loss: 0.4295 - accuracy: 0.8062\n",
      "Epoch 63/100\n",
      "25/25 [==============================] - 0s 6ms/step - loss: 0.4349 - accuracy: 0.8075\n",
      "Epoch 64/100\n",
      "25/25 [==============================] - 0s 6ms/step - loss: 0.4321 - accuracy: 0.7950\n",
      "Epoch 65/100\n",
      "25/25 [==============================] - 0s 7ms/step - loss: 0.4294 - accuracy: 0.8175\n",
      "Epoch 66/100\n",
      "25/25 [==============================] - 0s 7ms/step - loss: 0.4304 - accuracy: 0.8225\n",
      "Epoch 67/100\n",
      "25/25 [==============================] - 0s 6ms/step - loss: 0.4233 - accuracy: 0.8087\n",
      "Epoch 68/100\n",
      "25/25 [==============================] - 0s 6ms/step - loss: 0.4246 - accuracy: 0.8112\n",
      "Epoch 69/100\n",
      "25/25 [==============================] - 0s 6ms/step - loss: 0.4317 - accuracy: 0.8137\n",
      "Epoch 70/100\n",
      "25/25 [==============================] - 0s 6ms/step - loss: 0.4329 - accuracy: 0.7962\n",
      "Epoch 71/100\n",
      "25/25 [==============================] - 0s 6ms/step - loss: 0.4207 - accuracy: 0.8150\n",
      "Epoch 72/100\n",
      "25/25 [==============================] - 0s 6ms/step - loss: 0.4200 - accuracy: 0.8125\n",
      "Epoch 73/100\n",
      "25/25 [==============================] - 0s 6ms/step - loss: 0.4251 - accuracy: 0.8025\n",
      "Epoch 74/100\n",
      "25/25 [==============================] - 0s 6ms/step - loss: 0.4216 - accuracy: 0.8050\n",
      "Epoch 75/100\n",
      "25/25 [==============================] - 0s 6ms/step - loss: 0.4222 - accuracy: 0.8100\n",
      "Epoch 76/100\n",
      "25/25 [==============================] - 0s 6ms/step - loss: 0.4197 - accuracy: 0.8187\n",
      "Epoch 77/100\n",
      "25/25 [==============================] - 0s 6ms/step - loss: 0.4223 - accuracy: 0.8137\n",
      "Epoch 78/100\n",
      "25/25 [==============================] - 0s 6ms/step - loss: 0.4199 - accuracy: 0.8137\n",
      "Epoch 79/100\n",
      "25/25 [==============================] - 0s 7ms/step - loss: 0.4322 - accuracy: 0.8137\n",
      "Epoch 80/100\n",
      "25/25 [==============================] - 0s 6ms/step - loss: 0.4351 - accuracy: 0.8025\n",
      "Epoch 81/100\n",
      "25/25 [==============================] - 0s 7ms/step - loss: 0.4179 - accuracy: 0.8112\n",
      "Epoch 82/100\n",
      "25/25 [==============================] - 0s 6ms/step - loss: 0.4240 - accuracy: 0.8162\n",
      "Epoch 83/100\n"
     ]
    },
    {
     "name": "stdout",
     "output_type": "stream",
     "text": [
      "25/25 [==============================] - 0s 6ms/step - loss: 0.4280 - accuracy: 0.8100\n",
      "Epoch 84/100\n",
      "25/25 [==============================] - 0s 6ms/step - loss: 0.4210 - accuracy: 0.8175\n",
      "Epoch 85/100\n",
      "25/25 [==============================] - 0s 6ms/step - loss: 0.4178 - accuracy: 0.8175\n",
      "Epoch 86/100\n",
      "25/25 [==============================] - 0s 6ms/step - loss: 0.4167 - accuracy: 0.8200\n",
      "Epoch 87/100\n",
      "25/25 [==============================] - 0s 6ms/step - loss: 0.4129 - accuracy: 0.8150\n",
      "Epoch 88/100\n",
      "25/25 [==============================] - 0s 6ms/step - loss: 0.4183 - accuracy: 0.8162\n",
      "Epoch 89/100\n",
      "25/25 [==============================] - 0s 6ms/step - loss: 0.4165 - accuracy: 0.8112\n",
      "Epoch 90/100\n",
      "25/25 [==============================] - 0s 6ms/step - loss: 0.4183 - accuracy: 0.8150\n",
      "Epoch 91/100\n",
      "25/25 [==============================] - 0s 6ms/step - loss: 0.4168 - accuracy: 0.8087\n",
      "Epoch 92/100\n",
      "25/25 [==============================] - 0s 6ms/step - loss: 0.4149 - accuracy: 0.8125\n",
      "Epoch 93/100\n",
      "25/25 [==============================] - 0s 6ms/step - loss: 0.4167 - accuracy: 0.8075\n",
      "Epoch 94/100\n",
      "25/25 [==============================] - 0s 6ms/step - loss: 0.4124 - accuracy: 0.8175\n",
      "Epoch 95/100\n",
      "25/25 [==============================] - 0s 6ms/step - loss: 0.4173 - accuracy: 0.8075\n",
      "Epoch 96/100\n",
      "25/25 [==============================] - 0s 6ms/step - loss: 0.4139 - accuracy: 0.8187\n",
      "Epoch 97/100\n",
      "25/25 [==============================] - 0s 6ms/step - loss: 0.4248 - accuracy: 0.8125\n",
      "Epoch 98/100\n",
      "25/25 [==============================] - 0s 6ms/step - loss: 0.4198 - accuracy: 0.8087\n",
      "Epoch 99/100\n",
      "25/25 [==============================] - 0s 6ms/step - loss: 0.4117 - accuracy: 0.8175\n",
      "Epoch 100/100\n",
      "25/25 [==============================] - 0s 6ms/step - loss: 0.4159 - accuracy: 0.8087\n"
     ]
    }
   ],
   "source": [
    "history = model.fit(X_train,\n",
    "                    Y_train,\n",
    "                    batch_size = 32,\n",
    "                    epochs = 100,\n",
    "                    callbacks = [callbacks], verbose = 1)"
   ]
  },
  {
   "cell_type": "markdown",
   "id": "062c7c0c",
   "metadata": {},
   "source": [
    "### 4.4 Model Evaluation (On Train Data)"
   ]
  },
  {
   "cell_type": "code",
   "execution_count": 9,
   "id": "9e32ff69",
   "metadata": {
    "scrolled": false
   },
   "outputs": [
    {
     "data": {
      "text/plain": [
       "<AxesSubplot:>"
      ]
     },
     "execution_count": 9,
     "metadata": {},
     "output_type": "execute_result"
    },
    {
     "data": {
      "image/png": "[encoded data removed]",
      "text/plain": [
       "<Figure size 640x480 with 1 Axes>"
      ]
     },
     "metadata": {},
     "output_type": "display_data"
    }
   ],
   "source": [
    "pd.DataFrame(history.history).plot()"
   ]
  },
  {
   "cell_type": "code",
   "execution_count": 10,
   "id": "b6096424",
   "metadata": {
    "scrolled": true
   },
   "outputs": [
    {
     "name": "stdout",
     "output_type": "stream",
     "text": [
      "25/25 [==============================] - 0s 4ms/step - loss: 0.4176 - accuracy: 0.8200\n"
     ]
    },
    {
     "name": "stderr",
     "output_type": "stream",
     "text": [
      "2022-11-27 15:17:14.759096: I tensorflow/core/grappler/optimizers/custom_graph_optimizer_registry.cc:114] Plugin optimizer for device_type GPU is enabled.\n"
     ]
    },
    {
     "name": "stdout",
     "output_type": "stream",
     "text": [
      "25/25 [==============================] - 0s 2ms/step\n"
     ]
    },
    {
     "name": "stderr",
     "output_type": "stream",
     "text": [
      "2022-11-27 15:17:14.970846: I tensorflow/core/grappler/optimizers/custom_graph_optimizer_registry.cc:114] Plugin optimizer for device_type GPU is enabled.\n"
     ]
    }
   ],
   "source": [
    "model.evaluate(X_train,Y_train)\n",
    "Y_train_pred = model.predict(X_train)>=0.5"
   ]
  },
  {
   "cell_type": "code",
   "execution_count": 11,
   "id": "875e0331",
   "metadata": {},
   "outputs": [
    {
     "name": "stdout",
     "output_type": "stream",
     "text": [
      "              precision    recall  f1-score   support\n",
      "\n",
      "           0       0.83      0.90      0.86       491\n",
      "           1       0.81      0.70      0.75       309\n",
      "\n",
      "    accuracy                           0.82       800\n",
      "   macro avg       0.82      0.80      0.80       800\n",
      "weighted avg       0.82      0.82      0.82       800\n",
      "\n"
     ]
    }
   ],
   "source": [
    "print(classification_report(Y_train,Y_train_pred))"
   ]
  },
  {
   "cell_type": "markdown",
   "id": "5bc53bf6",
   "metadata": {},
   "source": [
    "### 4.5 Model Prediction"
   ]
  },
  {
   "cell_type": "code",
   "execution_count": 12,
   "id": "dbb691e7",
   "metadata": {},
   "outputs": [
    {
     "name": "stdout",
     "output_type": "stream",
     "text": [
      "3/3 [==============================] - 0s 11ms/step\n"
     ]
    },
    {
     "name": "stderr",
     "output_type": "stream",
     "text": [
      "2022-11-27 15:17:15.110583: I tensorflow/core/grappler/optimizers/custom_graph_optimizer_registry.cc:114] Plugin optimizer for device_type GPU is enabled.\n"
     ]
    }
   ],
   "source": [
    "Y_test_pred = model.predict(X_test)>=0.5"
   ]
  },
  {
   "cell_type": "markdown",
   "id": "741af41d",
   "metadata": {},
   "source": [
    "## 5. Model Evaluation (On Test Data)"
   ]
  },
  {
   "cell_type": "code",
   "execution_count": 13,
   "id": "2b4cc8e5",
   "metadata": {},
   "outputs": [
    {
     "name": "stdout",
     "output_type": "stream",
     "text": [
      "              precision    recall  f1-score   support\n",
      "\n",
      "           0       0.86      0.95      0.90        58\n",
      "           1       0.88      0.71      0.79        31\n",
      "\n",
      "    accuracy                           0.87        89\n",
      "   macro avg       0.87      0.83      0.84        89\n",
      "weighted avg       0.87      0.87      0.86        89\n",
      "\n"
     ]
    }
   ],
   "source": [
    "print(classification_report(Y_test,Y_test_pred))"
   ]
  },
  {
   "cell_type": "code",
   "execution_count": 14,
   "id": "82d14c37",
   "metadata": {},
   "outputs": [
    {
     "data": {
      "text/plain": [
       "array([[55,  3],\n",
       "       [ 9, 22]])"
      ]
     },
     "execution_count": 14,
     "metadata": {},
     "output_type": "execute_result"
    }
   ],
   "source": [
    "confusion_matrix(Y_test,Y_test_pred)"
   ]
  },
  {
   "cell_type": "markdown",
   "id": "27ead9c9",
   "metadata": {},
   "source": [
    "## 6. Saving a model"
   ]
  },
  {
   "cell_type": "markdown",
   "id": "b3824623",
   "metadata": {},
   "source": [
    "`model.save_weights()`: Will only save the weights so if you need, you are able to apply them on a different architecture\n",
    "<br/>\n",
    "`mode.save()`: Will save the architecture of the model + the the weights + the training configuration + the state of the optimizer"
   ]
  },
  {
   "cell_type": "code",
   "execution_count": 15,
   "id": "3d3d3aa0",
   "metadata": {},
   "outputs": [],
   "source": [
    "model.save(\"Best_Models/keras.h5\")\n",
    "model.save_weights(\"Best_Models/keras_weights.h5\")"
   ]
  }
 ],
 "metadata": {
  "kernelspec": {
   "display_name": "Python (GPU_SUP)",
   "language": "python",
   "name": "gpu_sup"
  },
  "language_info": {
   "codemirror_mode": {
    "name": "ipython",
    "version": 3
   },
   "file_extension": ".py",
   "mimetype": "text/x-python",
   "name": "python",
   "nbconvert_exporter": "python",
   "pygments_lexer": "ipython3",
   "version": "3.8.13"
  }
 },
 "nbformat": 4,
 "nbformat_minor": 5
}
