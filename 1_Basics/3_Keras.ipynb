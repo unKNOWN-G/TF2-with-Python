{
 "cells": [
  {
   "cell_type": "markdown",
   "id": "adcd30fc",
   "metadata": {},
   "source": [
    "## Document Structure\n",
    "1. Headers and Imports\n",
    "2. Importing Data\n",
    "3. Data Scaling and Splitting\n",
    "4. Modelling\n",
    "    - 4.1 Model Structure\n",
    "    - 4.2 Loss, Optimizer, Metric, Validation\n",
    "    - 4.3 Callbacks\n",
    "    - 4.4 Model Evaluation (On Train Data)\n",
    "    - 4.5 Model Prediction\n",
    "5. Model Evaluation (On Test Data)\n",
    "6. Saving a model"
   ]
  },
  {
   "cell_type": "markdown",
   "id": "c62d4ca7",
   "metadata": {},
   "source": [
    "## 1. Headers and Imports"
   ]
  },
  {
   "cell_type": "code",
   "execution_count": 1,
   "id": "264c4ccb",
   "metadata": {},
   "outputs": [],
   "source": [
    "# Computational Libraries\n",
    "import tensorflow as tf\n",
    "import numpy as np\n",
    "import pandas as pd\n",
    "\n",
    "# Train Test Split\n",
    "from sklearn.model_selection import train_test_split\n",
    "from sklearn.preprocessing import StandardScaler\n",
    "\n",
    "# Keras Modelling Imports\n",
    "from keras.models import Sequential\n",
    "from keras.layers import Dense,Activation,Layer,Lambda\n",
    "\n",
    "# Keras Callbacks\n",
    "from keras.callbacks import LearningRateScheduler, ModelCheckpoint, EarlyStopping, TensorBoard, CSVLogger\n",
    "\n",
    "# Visualization Libraries\n",
    "import matplotlib.pyplot as plt\n",
    "import seaborn as sns\n",
    "\n",
    "# Metric Libraries\n",
    "from sklearn.metrics import confusion_matrix, ConfusionMatrixDisplay\n",
    "from sklearn.metrics import classification_report\n",
    "\n",
    "%matplotlib inline"
   ]
  },
  {
   "cell_type": "markdown",
   "id": "c69918f0",
   "metadata": {},
   "source": [
    "## 2. Importing Data"
   ]
  },
  {
   "cell_type": "code",
   "execution_count": 2,
   "id": "80ee2977",
   "metadata": {},
   "outputs": [
    {
     "data": {
      "text/html": [
       "<div>\n",
       "<style scoped>\n",
       "    .dataframe tbody tr th:only-of-type {\n",
       "        vertical-align: middle;\n",
       "    }\n",
       "\n",
       "    .dataframe tbody tr th {\n",
       "        vertical-align: top;\n",
       "    }\n",
       "\n",
       "    .dataframe thead th {\n",
       "        text-align: right;\n",
       "    }\n",
       "</style>\n",
       "<table border=\"1\" class=\"dataframe\">\n",
       "  <thead>\n",
       "    <tr style=\"text-align: right;\">\n",
       "      <th></th>\n",
       "      <th>Unnamed: 0</th>\n",
       "      <th>Survived</th>\n",
       "      <th>Pclass</th>\n",
       "      <th>Age</th>\n",
       "      <th>SibSp</th>\n",
       "      <th>Parch</th>\n",
       "      <th>Fare</th>\n",
       "      <th>Sex_female</th>\n",
       "      <th>Sex_male</th>\n",
       "      <th>Embarked_C</th>\n",
       "      <th>Embarked_Q</th>\n",
       "      <th>Embarked_S</th>\n",
       "    </tr>\n",
       "  </thead>\n",
       "  <tbody>\n",
       "    <tr>\n",
       "      <th>0</th>\n",
       "      <td>0</td>\n",
       "      <td>0</td>\n",
       "      <td>3</td>\n",
       "      <td>22.0</td>\n",
       "      <td>1</td>\n",
       "      <td>0</td>\n",
       "      <td>7.2500</td>\n",
       "      <td>0</td>\n",
       "      <td>1</td>\n",
       "      <td>0</td>\n",
       "      <td>0</td>\n",
       "      <td>1</td>\n",
       "    </tr>\n",
       "    <tr>\n",
       "      <th>1</th>\n",
       "      <td>1</td>\n",
       "      <td>1</td>\n",
       "      <td>1</td>\n",
       "      <td>38.0</td>\n",
       "      <td>1</td>\n",
       "      <td>0</td>\n",
       "      <td>71.2833</td>\n",
       "      <td>1</td>\n",
       "      <td>0</td>\n",
       "      <td>1</td>\n",
       "      <td>0</td>\n",
       "      <td>0</td>\n",
       "    </tr>\n",
       "    <tr>\n",
       "      <th>2</th>\n",
       "      <td>2</td>\n",
       "      <td>1</td>\n",
       "      <td>3</td>\n",
       "      <td>26.0</td>\n",
       "      <td>0</td>\n",
       "      <td>0</td>\n",
       "      <td>7.9250</td>\n",
       "      <td>1</td>\n",
       "      <td>0</td>\n",
       "      <td>0</td>\n",
       "      <td>0</td>\n",
       "      <td>1</td>\n",
       "    </tr>\n",
       "    <tr>\n",
       "      <th>3</th>\n",
       "      <td>3</td>\n",
       "      <td>1</td>\n",
       "      <td>1</td>\n",
       "      <td>35.0</td>\n",
       "      <td>1</td>\n",
       "      <td>0</td>\n",
       "      <td>53.1000</td>\n",
       "      <td>1</td>\n",
       "      <td>0</td>\n",
       "      <td>0</td>\n",
       "      <td>0</td>\n",
       "      <td>1</td>\n",
       "    </tr>\n",
       "    <tr>\n",
       "      <th>4</th>\n",
       "      <td>4</td>\n",
       "      <td>0</td>\n",
       "      <td>3</td>\n",
       "      <td>35.0</td>\n",
       "      <td>0</td>\n",
       "      <td>0</td>\n",
       "      <td>8.0500</td>\n",
       "      <td>0</td>\n",
       "      <td>1</td>\n",
       "      <td>0</td>\n",
       "      <td>0</td>\n",
       "      <td>1</td>\n",
       "    </tr>\n",
       "  </tbody>\n",
       "</table>\n",
       "</div>"
      ],
      "text/plain": [
       "   Unnamed: 0  Survived  Pclass   Age  SibSp  Parch     Fare  Sex_female  \\\n",
       "0           0         0       3  22.0      1      0   7.2500           0   \n",
       "1           1         1       1  38.0      1      0  71.2833           1   \n",
       "2           2         1       3  26.0      0      0   7.9250           1   \n",
       "3           3         1       1  35.0      1      0  53.1000           1   \n",
       "4           4         0       3  35.0      0      0   8.0500           0   \n",
       "\n",
       "   Sex_male  Embarked_C  Embarked_Q  Embarked_S  \n",
       "0         1           0           0           1  \n",
       "1         0           1           0           0  \n",
       "2         0           0           0           1  \n",
       "3         0           0           0           1  \n",
       "4         1           0           0           1  "
      ]
     },
     "execution_count": 2,
     "metadata": {},
     "output_type": "execute_result"
    }
   ],
   "source": [
    "df = pd.read_csv(\"./Processed_Data/titanic/train.csv\")\n",
    "df.head()"
   ]
  },
  {
   "cell_type": "markdown",
   "id": "52fe12fe",
   "metadata": {},
   "source": [
    "## 3. Data Scaling and Splitting"
   ]
  },
  {
   "cell_type": "code",
   "execution_count": 3,
   "id": "50165128",
   "metadata": {},
   "outputs": [],
   "source": [
    "labels = df[\"Survived\"]\n",
    "features = df.drop(columns= [\"Survived\"])"
   ]
  },
  {
   "cell_type": "code",
   "execution_count": 4,
   "id": "4db86307",
   "metadata": {},
   "outputs": [],
   "source": [
    "scaler = StandardScaler()\n",
    "\n",
    "index = features.columns\n",
    "features_ = scaler.fit_transform(features)\n",
    "features_scaled = pd.DataFrame(features_, columns = index)\n",
    "\n",
    "X = features_scaled"
   ]
  },
  {
   "cell_type": "code",
   "execution_count": 5,
   "id": "f21be4ec",
   "metadata": {},
   "outputs": [
    {
     "name": "stdout",
     "output_type": "stream",
     "text": [
      "Shape of Training Set \n",
      " X_Train : (595, 11)\n",
      " Y_Train : (595,)\n",
      "Shape of Evaluation Set \n",
      " X_Train : (294, 11)\n",
      " Y_Train : (294,)\n"
     ]
    }
   ],
   "source": [
    "X_train, X_test, Y_train, Y_test = train_test_split(X,labels,test_size = 0.33, random_state = 33)\n",
    "print(f\"Shape of Training Set \\n X_Train : {X_train.shape}\\n Y_Train : {Y_train.shape}\")\n",
    "print(f\"Shape of Evaluation Set \\n X_Train : {X_test.shape}\\n Y_Train : {Y_test.shape}\")"
   ]
  },
  {
   "cell_type": "markdown",
   "id": "5eb0c996",
   "metadata": {},
   "source": [
    "## 4. Modelling\n"
   ]
  },
  {
   "cell_type": "markdown",
   "id": "d5153cbe",
   "metadata": {},
   "source": [
    "### 4.1 Model Structure"
   ]
  },
  {
   "cell_type": "code",
   "execution_count": 6,
   "id": "aeafd9c4",
   "metadata": {},
   "outputs": [
    {
     "name": "stdout",
     "output_type": "stream",
     "text": [
      "Metal device set to: Apple M1 Pro\n",
      "Model: \"sequential\"\n",
      "_________________________________________________________________\n",
      " Layer (type)                Output Shape              Param #   \n",
      "=================================================================\n",
      " dense (Dense)               (None, 100)               1200      \n",
      "                                                                 \n",
      " dense_1 (Dense)             (None, 100)               10100     \n",
      "                                                                 \n",
      " dense_2 (Dense)             (None, 100)               10100     \n",
      "                                                                 \n",
      " dense_3 (Dense)             (None, 100)               10100     \n",
      "                                                                 \n",
      " dense_4 (Dense)             (None, 100)               10100     \n",
      "                                                                 \n",
      " dense_5 (Dense)             (None, 1)                 101       \n",
      "                                                                 \n",
      "=================================================================\n",
      "Total params: 41,701\n",
      "Trainable params: 41,701\n",
      "Non-trainable params: 0\n",
      "_________________________________________________________________\n"
     ]
    },
    {
     "name": "stderr",
     "output_type": "stream",
     "text": [
      "2022-11-27 14:33:20.712891: I tensorflow/core/common_runtime/pluggable_device/pluggable_device_factory.cc:306] Could not identify NUMA node of platform GPU ID 0, defaulting to 0. Your kernel may not have been built with NUMA support.\n",
      "2022-11-27 14:33:20.713016: I tensorflow/core/common_runtime/pluggable_device/pluggable_device_factory.cc:272] Created TensorFlow device (/job:localhost/replica:0/task:0/device:GPU:0 with 0 MB memory) -> physical PluggableDevice (device: 0, name: METAL, pci bus id: <undefined>)\n"
     ]
    }
   ],
   "source": [
    "# Defining Model Structure\n",
    "model = Sequential()\n",
    "model.add(Dense(100,input_shape = (11,),kernel_initializer=  \"uniform\" ,activation=\"relu\"))\n",
    "model.add(Dense(100,kernel_initializer=  \"uniform\" ,activation=\"relu\"))\n",
    "model.add(Dense(100,kernel_initializer=  \"uniform\" ,activation=\"relu\"))\n",
    "model.add(Dense(100,kernel_initializer=  \"uniform\" ,activation=\"relu\"))\n",
    "model.add(Dense(100,kernel_initializer=  \"uniform\" ,activation=\"relu\"))\n",
    "model.add(Dense(1,activation = \"sigmoid\"))\n",
    "model.summary()"
   ]
  },
  {
   "cell_type": "markdown",
   "id": "c7ffc222",
   "metadata": {},
   "source": [
    "### 4.2 Loss, Optimizer, Metric, Validation"
   ]
  },
  {
   "cell_type": "code",
   "execution_count": 7,
   "id": "fe1f7f5f",
   "metadata": {},
   "outputs": [],
   "source": [
    "# Defining Loss, Optimizer, Metric, Validation\n",
    "model.compile(loss = 'binary_crossentropy',\n",
    "              optimizer=\"adam\",\n",
    "              metrics = ['accuracy'])"
   ]
  },
  {
   "cell_type": "markdown",
   "id": "dc4a3487",
   "metadata": {},
   "source": [
    "### 4.3 Callbacks"
   ]
  },
  {
   "cell_type": "code",
   "execution_count": 8,
   "id": "871c0e6e",
   "metadata": {},
   "outputs": [],
   "source": [
    "# Callbacks\n",
    "# lr_schedule = LearningRateScheduler(lambda epoch: 1e-8 * 10**(epoch / 20))\n",
    "acc_check  = ModelCheckpoint(filepath = \"./Saved_Models/keras/acc_{accuracy:.2f} - loss_{loss:.2f}.h5\",\n",
    "                            monitor = \"accuracy\",\n",
    "                            save_best_only= True,\n",
    "                            mode = \"max\")\n",
    "early_stop = EarlyStopping(monitor = \"loss\", patience = 3)\n",
    "\n",
    "callbacks = [acc_check, early_stop]"
   ]
  },
  {
   "cell_type": "code",
   "execution_count": 9,
   "id": "0d4ad102",
   "metadata": {
    "scrolled": false
   },
   "outputs": [
    {
     "name": "stdout",
     "output_type": "stream",
     "text": [
      "Epoch 1/100\n"
     ]
    },
    {
     "name": "stderr",
     "output_type": "stream",
     "text": [
      "2022-11-27 14:33:20.887729: W tensorflow/core/platform/profile_utils/cpu_utils.cc:128] Failed to get CPU frequency: 0 Hz\n",
      "2022-11-27 14:33:21.142157: I tensorflow/core/grappler/optimizers/custom_graph_optimizer_registry.cc:114] Plugin optimizer for device_type GPU is enabled.\n"
     ]
    },
    {
     "name": "stdout",
     "output_type": "stream",
     "text": [
      "19/19 [==============================] - 1s 15ms/step - loss: 0.6925 - accuracy: 0.6050\n",
      "Epoch 2/100\n",
      "19/19 [==============================] - 0s 8ms/step - loss: 0.6908 - accuracy: 0.6050\n",
      "Epoch 3/100\n",
      "19/19 [==============================] - 0s 8ms/step - loss: 0.6878 - accuracy: 0.6050\n",
      "Epoch 4/100\n",
      "19/19 [==============================] - 0s 9ms/step - loss: 0.6805 - accuracy: 0.6050\n",
      "Epoch 5/100\n",
      "19/19 [==============================] - 0s 9ms/step - loss: 0.6616 - accuracy: 0.6050\n",
      "Epoch 6/100\n",
      "19/19 [==============================] - 0s 12ms/step - loss: 0.6206 - accuracy: 0.6101\n",
      "Epoch 7/100\n",
      "19/19 [==============================] - 0s 10ms/step - loss: 0.5662 - accuracy: 0.7613\n",
      "Epoch 8/100\n",
      "19/19 [==============================] - 0s 10ms/step - loss: 0.5359 - accuracy: 0.8067\n",
      "Epoch 9/100\n",
      "19/19 [==============================] - 0s 10ms/step - loss: 0.5245 - accuracy: 0.8168\n",
      "Epoch 10/100\n",
      "19/19 [==============================] - 0s 8ms/step - loss: 0.5163 - accuracy: 0.8168\n",
      "Epoch 11/100\n",
      "19/19 [==============================] - 0s 10ms/step - loss: 0.5049 - accuracy: 0.8202\n",
      "Epoch 12/100\n",
      "19/19 [==============================] - 0s 8ms/step - loss: 0.4923 - accuracy: 0.8151\n",
      "Epoch 13/100\n",
      "19/19 [==============================] - 0s 8ms/step - loss: 0.4797 - accuracy: 0.8168\n",
      "Epoch 14/100\n",
      "19/19 [==============================] - 0s 8ms/step - loss: 0.4640 - accuracy: 0.8118\n",
      "Epoch 15/100\n",
      "19/19 [==============================] - 0s 9ms/step - loss: 0.4486 - accuracy: 0.8202\n",
      "Epoch 16/100\n",
      "19/19 [==============================] - 0s 10ms/step - loss: 0.4345 - accuracy: 0.8118\n",
      "Epoch 17/100\n",
      "19/19 [==============================] - 0s 9ms/step - loss: 0.4227 - accuracy: 0.8151\n",
      "Epoch 18/100\n",
      "19/19 [==============================] - 0s 9ms/step - loss: 0.4155 - accuracy: 0.8202\n",
      "Epoch 19/100\n",
      "19/19 [==============================] - 0s 8ms/step - loss: 0.4075 - accuracy: 0.8202\n",
      "Epoch 20/100\n",
      "19/19 [==============================] - 0s 10ms/step - loss: 0.4051 - accuracy: 0.8218\n",
      "Epoch 21/100\n",
      "19/19 [==============================] - 0s 15ms/step - loss: 0.4018 - accuracy: 0.8269\n",
      "Epoch 22/100\n",
      "19/19 [==============================] - 0s 10ms/step - loss: 0.3980 - accuracy: 0.8235\n",
      "Epoch 23/100\n",
      "19/19 [==============================] - 0s 11ms/step - loss: 0.3952 - accuracy: 0.8336\n",
      "Epoch 24/100\n",
      "19/19 [==============================] - 0s 9ms/step - loss: 0.3939 - accuracy: 0.8303\n",
      "Epoch 25/100\n",
      "19/19 [==============================] - 0s 11ms/step - loss: 0.3904 - accuracy: 0.8353\n",
      "Epoch 26/100\n",
      "19/19 [==============================] - 0s 9ms/step - loss: 0.3885 - accuracy: 0.8336\n",
      "Epoch 27/100\n",
      "19/19 [==============================] - 0s 11ms/step - loss: 0.3875 - accuracy: 0.8420\n",
      "Epoch 28/100\n",
      "19/19 [==============================] - 0s 9ms/step - loss: 0.3862 - accuracy: 0.8303\n",
      "Epoch 29/100\n",
      "19/19 [==============================] - 0s 9ms/step - loss: 0.3829 - accuracy: 0.8387\n",
      "Epoch 30/100\n",
      "19/19 [==============================] - 0s 9ms/step - loss: 0.3812 - accuracy: 0.8370\n",
      "Epoch 31/100\n",
      "19/19 [==============================] - 0s 8ms/step - loss: 0.3806 - accuracy: 0.8353\n",
      "Epoch 32/100\n",
      "19/19 [==============================] - 0s 8ms/step - loss: 0.3793 - accuracy: 0.8420\n",
      "Epoch 33/100\n",
      "19/19 [==============================] - 0s 8ms/step - loss: 0.3777 - accuracy: 0.8387\n",
      "Epoch 34/100\n",
      "19/19 [==============================] - 0s 11ms/step - loss: 0.3764 - accuracy: 0.8454\n",
      "Epoch 35/100\n",
      "19/19 [==============================] - 0s 9ms/step - loss: 0.3748 - accuracy: 0.8420\n",
      "Epoch 36/100\n",
      "19/19 [==============================] - 0s 10ms/step - loss: 0.3736 - accuracy: 0.8471\n",
      "Epoch 37/100\n",
      "19/19 [==============================] - 0s 9ms/step - loss: 0.3724 - accuracy: 0.8437\n",
      "Epoch 38/100\n",
      "19/19 [==============================] - 0s 8ms/step - loss: 0.3707 - accuracy: 0.8437\n",
      "Epoch 39/100\n",
      "19/19 [==============================] - 0s 10ms/step - loss: 0.3700 - accuracy: 0.8504\n",
      "Epoch 40/100\n",
      "19/19 [==============================] - 0s 9ms/step - loss: 0.3701 - accuracy: 0.8471\n",
      "Epoch 41/100\n",
      "19/19 [==============================] - 0s 10ms/step - loss: 0.3672 - accuracy: 0.8555\n",
      "Epoch 42/100\n",
      "19/19 [==============================] - 0s 9ms/step - loss: 0.3659 - accuracy: 0.8487\n",
      "Epoch 43/100\n",
      "19/19 [==============================] - 0s 8ms/step - loss: 0.3643 - accuracy: 0.8555\n",
      "Epoch 44/100\n",
      "19/19 [==============================] - 0s 8ms/step - loss: 0.3634 - accuracy: 0.8555\n",
      "Epoch 45/100\n",
      "19/19 [==============================] - 0s 9ms/step - loss: 0.3620 - accuracy: 0.8487\n",
      "Epoch 46/100\n",
      "19/19 [==============================] - 0s 10ms/step - loss: 0.3609 - accuracy: 0.8521\n",
      "Epoch 47/100\n",
      "19/19 [==============================] - 0s 9ms/step - loss: 0.3599 - accuracy: 0.8555\n",
      "Epoch 48/100\n",
      "19/19 [==============================] - 0s 9ms/step - loss: 0.3597 - accuracy: 0.8538\n",
      "Epoch 49/100\n",
      "19/19 [==============================] - 0s 9ms/step - loss: 0.3578 - accuracy: 0.8538\n",
      "Epoch 50/100\n",
      "19/19 [==============================] - 0s 9ms/step - loss: 0.3572 - accuracy: 0.8521\n",
      "Epoch 51/100\n",
      "19/19 [==============================] - 0s 10ms/step - loss: 0.3543 - accuracy: 0.8588\n",
      "Epoch 52/100\n",
      "19/19 [==============================] - 0s 10ms/step - loss: 0.3535 - accuracy: 0.8588\n",
      "Epoch 53/100\n",
      "19/19 [==============================] - 0s 11ms/step - loss: 0.3526 - accuracy: 0.8605\n",
      "Epoch 54/100\n",
      "19/19 [==============================] - 0s 11ms/step - loss: 0.3516 - accuracy: 0.8655\n",
      "Epoch 55/100\n",
      "19/19 [==============================] - 0s 9ms/step - loss: 0.3498 - accuracy: 0.8639\n",
      "Epoch 56/100\n",
      "19/19 [==============================] - 0s 9ms/step - loss: 0.3494 - accuracy: 0.8471\n",
      "Epoch 57/100\n",
      "19/19 [==============================] - 0s 8ms/step - loss: 0.3539 - accuracy: 0.8504\n",
      "Epoch 58/100\n",
      "19/19 [==============================] - 0s 9ms/step - loss: 0.3481 - accuracy: 0.8538\n",
      "Epoch 59/100\n",
      "19/19 [==============================] - 0s 9ms/step - loss: 0.3463 - accuracy: 0.8622\n",
      "Epoch 60/100\n",
      "19/19 [==============================] - 0s 9ms/step - loss: 0.3522 - accuracy: 0.8454\n",
      "Epoch 61/100\n",
      "19/19 [==============================] - 0s 9ms/step - loss: 0.3469 - accuracy: 0.8555\n",
      "Epoch 62/100\n",
      "19/19 [==============================] - 0s 9ms/step - loss: 0.3437 - accuracy: 0.8571\n",
      "Epoch 63/100\n",
      "19/19 [==============================] - 0s 8ms/step - loss: 0.3426 - accuracy: 0.8571\n",
      "Epoch 64/100\n",
      "19/19 [==============================] - 0s 10ms/step - loss: 0.3420 - accuracy: 0.8622\n",
      "Epoch 65/100\n",
      "19/19 [==============================] - 0s 11ms/step - loss: 0.3403 - accuracy: 0.8689\n",
      "Epoch 66/100\n",
      "19/19 [==============================] - 0s 9ms/step - loss: 0.3393 - accuracy: 0.8605\n",
      "Epoch 67/100\n",
      "19/19 [==============================] - 0s 9ms/step - loss: 0.3380 - accuracy: 0.8689\n",
      "Epoch 68/100\n",
      "19/19 [==============================] - 0s 9ms/step - loss: 0.3392 - accuracy: 0.8689\n",
      "Epoch 69/100\n",
      "19/19 [==============================] - 0s 8ms/step - loss: 0.3393 - accuracy: 0.8655\n",
      "Epoch 70/100\n",
      "19/19 [==============================] - 0s 10ms/step - loss: 0.3358 - accuracy: 0.8706\n",
      "Epoch 71/100\n",
      "19/19 [==============================] - 0s 9ms/step - loss: 0.3365 - accuracy: 0.8655\n",
      "Epoch 72/100\n",
      "19/19 [==============================] - 0s 11ms/step - loss: 0.3346 - accuracy: 0.8723\n",
      "Epoch 73/100\n",
      "19/19 [==============================] - 0s 9ms/step - loss: 0.3338 - accuracy: 0.8672\n",
      "Epoch 74/100\n",
      "19/19 [==============================] - 0s 9ms/step - loss: 0.3333 - accuracy: 0.8706\n",
      "Epoch 75/100\n",
      "19/19 [==============================] - 0s 9ms/step - loss: 0.3335 - accuracy: 0.8639\n",
      "Epoch 76/100\n",
      "19/19 [==============================] - 0s 8ms/step - loss: 0.3323 - accuracy: 0.8639\n",
      "Epoch 77/100\n",
      "19/19 [==============================] - 0s 9ms/step - loss: 0.3317 - accuracy: 0.8706\n",
      "Epoch 78/100\n",
      "19/19 [==============================] - 0s 11ms/step - loss: 0.3293 - accuracy: 0.8756\n",
      "Epoch 79/100\n",
      "19/19 [==============================] - 0s 9ms/step - loss: 0.3280 - accuracy: 0.8739\n",
      "Epoch 80/100\n",
      "19/19 [==============================] - 0s 8ms/step - loss: 0.3285 - accuracy: 0.8723\n",
      "Epoch 81/100\n",
      "19/19 [==============================] - 0s 8ms/step - loss: 0.3291 - accuracy: 0.8723\n",
      "Epoch 82/100\n",
      "19/19 [==============================] - 0s 9ms/step - loss: 0.3266 - accuracy: 0.8723\n",
      "Epoch 83/100\n",
      "19/19 [==============================] - 0s 8ms/step - loss: 0.3255 - accuracy: 0.8689\n",
      "Epoch 84/100\n",
      "19/19 [==============================] - 0s 10ms/step - loss: 0.3240 - accuracy: 0.8773\n",
      "Epoch 85/100\n",
      "19/19 [==============================] - 0s 8ms/step - loss: 0.3249 - accuracy: 0.8756\n",
      "Epoch 86/100\n",
      "19/19 [==============================] - 0s 9ms/step - loss: 0.3243 - accuracy: 0.8739\n",
      "Epoch 87/100\n",
      "19/19 [==============================] - 0s 11ms/step - loss: 0.3223 - accuracy: 0.8790\n",
      "Epoch 88/100\n",
      "19/19 [==============================] - 0s 9ms/step - loss: 0.3224 - accuracy: 0.8756\n",
      "Epoch 89/100\n",
      "19/19 [==============================] - 0s 9ms/step - loss: 0.3210 - accuracy: 0.8756\n",
      "Epoch 90/100\n",
      "19/19 [==============================] - 0s 9ms/step - loss: 0.3219 - accuracy: 0.8706\n",
      "Epoch 91/100\n",
      "19/19 [==============================] - 0s 9ms/step - loss: 0.3208 - accuracy: 0.8773\n",
      "Epoch 92/100\n",
      "19/19 [==============================] - 0s 9ms/step - loss: 0.3196 - accuracy: 0.8756\n",
      "Epoch 93/100\n",
      "19/19 [==============================] - 0s 9ms/step - loss: 0.3243 - accuracy: 0.8672\n",
      "Epoch 94/100\n",
      "19/19 [==============================] - 0s 9ms/step - loss: 0.3244 - accuracy: 0.8689\n",
      "Epoch 95/100\n",
      "19/19 [==============================] - 0s 9ms/step - loss: 0.3184 - accuracy: 0.8756\n",
      "Epoch 96/100\n",
      "19/19 [==============================] - 0s 9ms/step - loss: 0.3168 - accuracy: 0.8739\n",
      "Epoch 97/100\n",
      "19/19 [==============================] - 0s 9ms/step - loss: 0.3153 - accuracy: 0.8756\n",
      "Epoch 98/100\n",
      "19/19 [==============================] - 0s 9ms/step - loss: 0.3157 - accuracy: 0.8739\n",
      "Epoch 99/100\n",
      "19/19 [==============================] - 0s 9ms/step - loss: 0.3159 - accuracy: 0.8756\n",
      "Epoch 100/100\n",
      "19/19 [==============================] - 0s 9ms/step - loss: 0.3158 - accuracy: 0.8756\n"
     ]
    }
   ],
   "source": [
    "history = model.fit(X_train,\n",
    "                    Y_train,\n",
    "                    batch_size = 32,\n",
    "                    epochs = 100,\n",
    "                    callbacks = [callbacks], verbose = 1)"
   ]
  },
  {
   "cell_type": "markdown",
   "id": "062c7c0c",
   "metadata": {},
   "source": [
    "### 4.4 Model Evaluation (On Train Data)"
   ]
  },
  {
   "cell_type": "code",
   "execution_count": 10,
   "id": "9e32ff69",
   "metadata": {
    "scrolled": false
   },
   "outputs": [
    {
     "data": {
      "text/plain": [
       "<AxesSubplot:>"
      ]
     },
     "execution_count": 10,
     "metadata": {},
     "output_type": "execute_result"
    },
    {
     "data": {
      "image/png": "[encoded data removed]",
      "text/plain": [
       "<Figure size 640x480 with 1 Axes>"
      ]
     },
     "metadata": {},
     "output_type": "display_data"
    }
   ],
   "source": [
    "pd.DataFrame(history.history).plot()"
   ]
  },
  {
   "cell_type": "code",
   "execution_count": 11,
   "id": "b6096424",
   "metadata": {
    "scrolled": true
   },
   "outputs": [
    {
     "name": "stdout",
     "output_type": "stream",
     "text": [
      "10/19 [==============>...............] - ETA: 0s - loss: 0.3074 - accuracy: 0.8938"
     ]
    },
    {
     "name": "stderr",
     "output_type": "stream",
     "text": [
      "2022-11-27 14:33:39.392798: I tensorflow/core/grappler/optimizers/custom_graph_optimizer_registry.cc:114] Plugin optimizer for device_type GPU is enabled.\n"
     ]
    },
    {
     "name": "stdout",
     "output_type": "stream",
     "text": [
      "19/19 [==============================] - 0s 7ms/step - loss: 0.3103 - accuracy: 0.8857\n",
      "19/19 [==============================] - 0s 3ms/step\n"
     ]
    },
    {
     "name": "stderr",
     "output_type": "stream",
     "text": [
      "2022-11-27 14:33:39.660607: I tensorflow/core/grappler/optimizers/custom_graph_optimizer_registry.cc:114] Plugin optimizer for device_type GPU is enabled.\n"
     ]
    }
   ],
   "source": [
    "model.evaluate(X_train,Y_train)\n",
    "Y_train_pred = model.predict(X_train)>=0.5"
   ]
  },
  {
   "cell_type": "code",
   "execution_count": 12,
   "id": "875e0331",
   "metadata": {},
   "outputs": [
    {
     "name": "stdout",
     "output_type": "stream",
     "text": [
      "              precision    recall  f1-score   support\n",
      "\n",
      "           0       0.88      0.94      0.91       360\n",
      "           1       0.90      0.80      0.85       235\n",
      "\n",
      "    accuracy                           0.89       595\n",
      "   macro avg       0.89      0.87      0.88       595\n",
      "weighted avg       0.89      0.89      0.88       595\n",
      "\n"
     ]
    }
   ],
   "source": [
    "print(classification_report(Y_train,Y_train_pred))"
   ]
  },
  {
   "cell_type": "markdown",
   "id": "5bc53bf6",
   "metadata": {},
   "source": [
    "### 4.5 Model Prediction"
   ]
  },
  {
   "cell_type": "code",
   "execution_count": 13,
   "id": "dbb691e7",
   "metadata": {},
   "outputs": [
    {
     "name": "stdout",
     "output_type": "stream",
     "text": [
      "10/10 [==============================] - 0s 5ms/step\n"
     ]
    }
   ],
   "source": [
    "Y_test_pred = model.predict(X_test)>=0.5"
   ]
  },
  {
   "cell_type": "markdown",
   "id": "741af41d",
   "metadata": {},
   "source": [
    "## 5. Model Evaluation (On Test Data)"
   ]
  },
  {
   "cell_type": "code",
   "execution_count": 14,
   "id": "2b4cc8e5",
   "metadata": {},
   "outputs": [
    {
     "name": "stdout",
     "output_type": "stream",
     "text": [
      "              precision    recall  f1-score   support\n",
      "\n",
      "           0       0.83      0.88      0.85       189\n",
      "           1       0.76      0.68      0.71       105\n",
      "\n",
      "    accuracy                           0.81       294\n",
      "   macro avg       0.79      0.78      0.78       294\n",
      "weighted avg       0.80      0.81      0.80       294\n",
      "\n"
     ]
    }
   ],
   "source": [
    "print(classification_report(Y_test,Y_test_pred))"
   ]
  },
  {
   "cell_type": "code",
   "execution_count": 15,
   "id": "82d14c37",
   "metadata": {},
   "outputs": [
    {
     "data": {
      "text/plain": [
       "array([[166,  23],\n",
       "       [ 34,  71]])"
      ]
     },
     "execution_count": 15,
     "metadata": {},
     "output_type": "execute_result"
    }
   ],
   "source": [
    "confusion_matrix(Y_test,Y_test_pred)"
   ]
  },
  {
   "cell_type": "markdown",
   "id": "27ead9c9",
   "metadata": {},
   "source": [
    "## 6. Saving a model"
   ]
  },
  {
   "cell_type": "markdown",
   "id": "b3824623",
   "metadata": {},
   "source": [
    "`model.save_weights()`: Will only save the weights so if you need, you are able to apply them on a different architecture\n",
    "<br/>\n",
    "`mode.save()`: Will save the architecture of the model + the the weights + the training configuration + the state of the optimizer"
   ]
  },
  {
   "cell_type": "code",
   "execution_count": 16,
   "id": "3d3d3aa0",
   "metadata": {},
   "outputs": [],
   "source": [
    "model.save(\"Best_Models/keras.h5\")\n",
    "model.save_weights(\"Best_Models/keras_weights.h5\")"
   ]
  }
 ],
 "metadata": {
  "kernelspec": {
   "display_name": "Python (GPU_SUP)",
   "language": "python",
   "name": "gpu_sup"
  },
  "language_info": {
   "codemirror_mode": {
    "name": "ipython",
    "version": 3
   },
   "file_extension": ".py",
   "mimetype": "text/x-python",
   "name": "python",
   "nbconvert_exporter": "python",
   "pygments_lexer": "ipython3",
   "version": "3.8.13"
  }
 },
 "nbformat": 4,
 "nbformat_minor": 5
}
