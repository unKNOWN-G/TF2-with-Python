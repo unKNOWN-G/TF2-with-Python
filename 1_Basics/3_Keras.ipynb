{
 "cells": [
  {
   "cell_type": "markdown",
   "id": "adcd30fc",
   "metadata": {},
   "source": [
    "## Document Structure\n",
    "1. Headers and Imports\n",
    "2. Importing Data\n",
    "3. Data Splitting\n",
    "4. Modelling\n",
    "    - 4.1 Model Structure\n",
    "    - 4.2 Loss, Optimizer, Metric, Validation\n",
    "    - 4.3 Callbacks\n",
    "    - 4.4 Model Evaluation (On Train Data)\n",
    "    - 4.5 Model Prediction\n",
    "5. Model Evaluation (On Test Data)\n",
    "6. Saving a model"
   ]
  },
  {
   "cell_type": "markdown",
   "id": "c62d4ca7",
   "metadata": {},
   "source": [
    "## 1. Headers and Imports"
   ]
  },
  {
   "cell_type": "code",
   "execution_count": 1,
   "id": "264c4ccb",
   "metadata": {},
   "outputs": [],
   "source": [
    "# Computational Libraries\n",
    "import tensorflow as tf\n",
    "import numpy as np\n",
    "import pandas as pd\n",
    "\n",
    "# Train Test Split\n",
    "from sklearn.model_selection import train_test_split\n",
    "\n",
    "# Keras Modelling Imports\n",
    "from tensorflow import keras\n",
    "from keras.models import Sequential\n",
    "from keras.layers import Dense,Activation,Layer,Lambda\n",
    "\n",
    "# Keras Callbacks\n",
    "from keras.callbacks import LearningRateScheduler, ModelCheckpoint, EarlyStopping, TensorBoard, CSVLogger\n",
    "\n",
    "# Visualization Libraries\n",
    "import matplotlib.pyplot as plt\n",
    "import seaborn as sns\n",
    "\n",
    "# Metric Libraries\n",
    "from sklearn.metrics import confusion_matrix, ConfusionMatrixDisplay\n",
    "from sklearn.metrics import classification_report\n",
    "\n",
    "%matplotlib inline"
   ]
  },
  {
   "cell_type": "markdown",
   "id": "c69918f0",
   "metadata": {},
   "source": [
    "## 2. Importing Data"
   ]
  },
  {
   "cell_type": "code",
   "execution_count": 2,
   "id": "80ee2977",
   "metadata": {},
   "outputs": [
    {
     "data": {
      "text/html": [
       "<div>\n",
       "<style scoped>\n",
       "    .dataframe tbody tr th:only-of-type {\n",
       "        vertical-align: middle;\n",
       "    }\n",
       "\n",
       "    .dataframe tbody tr th {\n",
       "        vertical-align: top;\n",
       "    }\n",
       "\n",
       "    .dataframe thead th {\n",
       "        text-align: right;\n",
       "    }\n",
       "</style>\n",
       "<table border=\"1\" class=\"dataframe\">\n",
       "  <thead>\n",
       "    <tr style=\"text-align: right;\">\n",
       "      <th></th>\n",
       "      <th>Survived</th>\n",
       "      <th>Pclass</th>\n",
       "      <th>Age</th>\n",
       "      <th>SibSp</th>\n",
       "      <th>Parch</th>\n",
       "      <th>Fare</th>\n",
       "      <th>Sex_female</th>\n",
       "      <th>Sex_male</th>\n",
       "      <th>Embarked_C</th>\n",
       "      <th>Embarked_Q</th>\n",
       "      <th>Embarked_S</th>\n",
       "    </tr>\n",
       "  </thead>\n",
       "  <tbody>\n",
       "    <tr>\n",
       "      <th>0</th>\n",
       "      <td>0</td>\n",
       "      <td>3</td>\n",
       "      <td>22.0</td>\n",
       "      <td>1</td>\n",
       "      <td>0</td>\n",
       "      <td>7.2500</td>\n",
       "      <td>0</td>\n",
       "      <td>1</td>\n",
       "      <td>0</td>\n",
       "      <td>0</td>\n",
       "      <td>1</td>\n",
       "    </tr>\n",
       "    <tr>\n",
       "      <th>1</th>\n",
       "      <td>1</td>\n",
       "      <td>1</td>\n",
       "      <td>38.0</td>\n",
       "      <td>1</td>\n",
       "      <td>0</td>\n",
       "      <td>71.2833</td>\n",
       "      <td>1</td>\n",
       "      <td>0</td>\n",
       "      <td>1</td>\n",
       "      <td>0</td>\n",
       "      <td>0</td>\n",
       "    </tr>\n",
       "    <tr>\n",
       "      <th>2</th>\n",
       "      <td>1</td>\n",
       "      <td>3</td>\n",
       "      <td>26.0</td>\n",
       "      <td>0</td>\n",
       "      <td>0</td>\n",
       "      <td>7.9250</td>\n",
       "      <td>1</td>\n",
       "      <td>0</td>\n",
       "      <td>0</td>\n",
       "      <td>0</td>\n",
       "      <td>1</td>\n",
       "    </tr>\n",
       "    <tr>\n",
       "      <th>3</th>\n",
       "      <td>1</td>\n",
       "      <td>1</td>\n",
       "      <td>35.0</td>\n",
       "      <td>1</td>\n",
       "      <td>0</td>\n",
       "      <td>53.1000</td>\n",
       "      <td>1</td>\n",
       "      <td>0</td>\n",
       "      <td>0</td>\n",
       "      <td>0</td>\n",
       "      <td>1</td>\n",
       "    </tr>\n",
       "    <tr>\n",
       "      <th>4</th>\n",
       "      <td>0</td>\n",
       "      <td>3</td>\n",
       "      <td>35.0</td>\n",
       "      <td>0</td>\n",
       "      <td>0</td>\n",
       "      <td>8.0500</td>\n",
       "      <td>0</td>\n",
       "      <td>1</td>\n",
       "      <td>0</td>\n",
       "      <td>0</td>\n",
       "      <td>1</td>\n",
       "    </tr>\n",
       "  </tbody>\n",
       "</table>\n",
       "</div>"
      ],
      "text/plain": [
       "   Survived  Pclass   Age  SibSp  Parch     Fare  Sex_female  Sex_male  \\\n",
       "0         0       3  22.0      1      0   7.2500           0         1   \n",
       "1         1       1  38.0      1      0  71.2833           1         0   \n",
       "2         1       3  26.0      0      0   7.9250           1         0   \n",
       "3         1       1  35.0      1      0  53.1000           1         0   \n",
       "4         0       3  35.0      0      0   8.0500           0         1   \n",
       "\n",
       "   Embarked_C  Embarked_Q  Embarked_S  \n",
       "0           0           0           1  \n",
       "1           1           0           0  \n",
       "2           0           0           1  \n",
       "3           0           0           1  \n",
       "4           0           0           1  "
      ]
     },
     "execution_count": 2,
     "metadata": {},
     "output_type": "execute_result"
    }
   ],
   "source": [
    "df = pd.read_csv(\"./Processed_Data/titanic/train.csv\")\n",
    "df.head()"
   ]
  },
  {
   "cell_type": "markdown",
   "id": "52fe12fe",
   "metadata": {},
   "source": [
    "## 3. Data Splitting"
   ]
  },
  {
   "cell_type": "code",
   "execution_count": 3,
   "id": "50165128",
   "metadata": {},
   "outputs": [],
   "source": [
    "labels = df[\"Survived\"]\n",
    "features = df.drop(columns= [\"Survived\"])"
   ]
  },
  {
   "cell_type": "code",
   "execution_count": 4,
   "id": "f21be4ec",
   "metadata": {},
   "outputs": [
    {
     "name": "stdout",
     "output_type": "stream",
     "text": [
      "Shape of Training Set \n",
      " X_Train : (800, 10)\n",
      " Y_Train : (800,)\n",
      "Shape of Evaluation Set \n",
      " X_Train : (89, 10)\n",
      " Y_Train : (89,)\n"
     ]
    }
   ],
   "source": [
    "X_train, X_test, Y_train, Y_test = train_test_split(features,labels,test_size = 0.1, random_state = 33)\n",
    "print(f\"Shape of Training Set \\n X_Train : {X_train.shape}\\n Y_Train : {Y_train.shape}\")\n",
    "print(f\"Shape of Evaluation Set \\n X_Train : {X_test.shape}\\n Y_Train : {Y_test.shape}\")"
   ]
  },
  {
   "cell_type": "markdown",
   "id": "5eb0c996",
   "metadata": {},
   "source": [
    "## 4. Modelling\n"
   ]
  },
  {
   "cell_type": "markdown",
   "id": "d5153cbe",
   "metadata": {},
   "source": [
    "### 4.1 Model Structure"
   ]
  },
  {
   "cell_type": "code",
   "execution_count": 5,
   "id": "aeafd9c4",
   "metadata": {},
   "outputs": [
    {
     "name": "stdout",
     "output_type": "stream",
     "text": [
      "Metal device set to: Apple M1 Pro\n",
      "Model: \"sequential\"\n",
      "_________________________________________________________________\n",
      " Layer (type)                Output Shape              Param #   \n",
      "=================================================================\n",
      " dense (Dense)               (None, 100)               1100      \n",
      "                                                                 \n",
      " dense_1 (Dense)             (None, 100)               10100     \n",
      "                                                                 \n",
      " dense_2 (Dense)             (None, 100)               10100     \n",
      "                                                                 \n",
      " dense_3 (Dense)             (None, 100)               10100     \n",
      "                                                                 \n",
      " dense_4 (Dense)             (None, 100)               10100     \n",
      "                                                                 \n",
      " dense_5 (Dense)             (None, 1)                 101       \n",
      "                                                                 \n",
      "=================================================================\n",
      "Total params: 41,601\n",
      "Trainable params: 41,601\n",
      "Non-trainable params: 0\n",
      "_________________________________________________________________\n"
     ]
    },
    {
     "name": "stderr",
     "output_type": "stream",
     "text": [
      "2022-11-27 21:36:25.502472: I tensorflow/core/common_runtime/pluggable_device/pluggable_device_factory.cc:306] Could not identify NUMA node of platform GPU ID 0, defaulting to 0. Your kernel may not have been built with NUMA support.\n",
      "2022-11-27 21:36:25.502786: I tensorflow/core/common_runtime/pluggable_device/pluggable_device_factory.cc:272] Created TensorFlow device (/job:localhost/replica:0/task:0/device:GPU:0 with 0 MB memory) -> physical PluggableDevice (device: 0, name: METAL, pci bus id: <undefined>)\n"
     ]
    }
   ],
   "source": [
    "# Defining Model Structure\n",
    "model = Sequential()\n",
    "model.add(Dense(100,input_shape = (10,),kernel_initializer=  \"uniform\" ,activation=\"relu\"))\n",
    "model.add(Dense(100,kernel_initializer=  \"uniform\" ,activation=\"relu\"))\n",
    "model.add(Dense(100,kernel_initializer=  \"uniform\" ,activation=\"relu\"))\n",
    "model.add(Dense(100,kernel_initializer=  \"uniform\" ,activation=\"relu\"))\n",
    "model.add(Dense(100,kernel_initializer=  \"uniform\" ,activation=\"relu\"))\n",
    "model.add(Dense(1,activation = \"sigmoid\"))\n",
    "model.summary()"
   ]
  },
  {
   "cell_type": "markdown",
   "id": "c7ffc222",
   "metadata": {},
   "source": [
    "### 4.2 Loss, Optimizer, Metric, Validation"
   ]
  },
  {
   "cell_type": "code",
   "execution_count": 6,
   "id": "fe1f7f5f",
   "metadata": {},
   "outputs": [],
   "source": [
    "# Defining Loss, Optimizer, Metric, Validation\n",
    "model.compile(loss = 'binary_crossentropy',\n",
    "              optimizer= 'adam',\n",
    "              metrics = ['accuracy'])"
   ]
  },
  {
   "cell_type": "markdown",
   "id": "dc4a3487",
   "metadata": {},
   "source": [
    "### 4.3 Callbacks"
   ]
  },
  {
   "cell_type": "code",
   "execution_count": 7,
   "id": "871c0e6e",
   "metadata": {},
   "outputs": [],
   "source": [
    "# Callbacks\n",
    "# lr_schedule = LearningRateScheduler(lambda epoch: 1e-8 * 10**(epoch / 20))\n",
    "acc_check  = ModelCheckpoint(filepath = \"./Saved_Models/keras/acc_{accuracy:.2f} - loss_{loss:.2f}.h5\",\n",
    "                            monitor = \"accuracy\",\n",
    "                            save_best_only= True,\n",
    "                            mode = \"max\")\n",
    "early_stop = EarlyStopping(monitor = \"loss\", patience = 10)\n",
    "\n",
    "callbacks = [acc_check, early_stop]"
   ]
  },
  {
   "cell_type": "code",
   "execution_count": 8,
   "id": "0d4ad102",
   "metadata": {
    "scrolled": true
   },
   "outputs": [
    {
     "name": "stdout",
     "output_type": "stream",
     "text": [
      "Epoch 1/100\n"
     ]
    },
    {
     "name": "stderr",
     "output_type": "stream",
     "text": [
      "2022-11-27 21:36:25.748491: W tensorflow/core/platform/profile_utils/cpu_utils.cc:128] Failed to get CPU frequency: 0 Hz\n",
      "2022-11-27 21:36:25.973917: I tensorflow/core/grappler/optimizers/custom_graph_optimizer_registry.cc:114] Plugin optimizer for device_type GPU is enabled.\n"
     ]
    },
    {
     "name": "stdout",
     "output_type": "stream",
     "text": [
      "25/25 [==============================] - 1s 7ms/step - loss: 0.6623 - accuracy: 0.6275\n",
      "Epoch 2/100\n",
      "25/25 [==============================] - 0s 7ms/step - loss: 0.6142 - accuracy: 0.6837\n",
      "Epoch 3/100\n",
      "25/25 [==============================] - 0s 6ms/step - loss: 0.5952 - accuracy: 0.6837\n",
      "Epoch 4/100\n",
      "25/25 [==============================] - 0s 7ms/step - loss: 0.5740 - accuracy: 0.6887\n",
      "Epoch 5/100\n",
      "25/25 [==============================] - 0s 7ms/step - loss: 0.5550 - accuracy: 0.7037\n",
      "Epoch 6/100\n",
      "25/25 [==============================] - 0s 7ms/step - loss: 0.5258 - accuracy: 0.7475\n",
      "Epoch 7/100\n",
      "25/25 [==============================] - 0s 7ms/step - loss: 0.5096 - accuracy: 0.7812\n",
      "Epoch 8/100\n",
      "25/25 [==============================] - 0s 6ms/step - loss: 0.4925 - accuracy: 0.7788\n",
      "Epoch 9/100\n",
      "25/25 [==============================] - 0s 7ms/step - loss: 0.4939 - accuracy: 0.7875\n",
      "Epoch 10/100\n",
      "25/25 [==============================] - 0s 6ms/step - loss: 0.4765 - accuracy: 0.7862\n",
      "Epoch 11/100\n",
      "25/25 [==============================] - 0s 7ms/step - loss: 0.4658 - accuracy: 0.8037\n",
      "Epoch 12/100\n",
      "25/25 [==============================] - 0s 6ms/step - loss: 0.4718 - accuracy: 0.8012\n",
      "Epoch 13/100\n",
      "25/25 [==============================] - 0s 6ms/step - loss: 0.4663 - accuracy: 0.7900\n",
      "Epoch 14/100\n",
      "25/25 [==============================] - 0s 6ms/step - loss: 0.4519 - accuracy: 0.7925\n",
      "Epoch 15/100\n",
      "25/25 [==============================] - 0s 5ms/step - loss: 0.4394 - accuracy: 0.7925\n",
      "Epoch 16/100\n",
      "25/25 [==============================] - 0s 6ms/step - loss: 0.4485 - accuracy: 0.7987\n",
      "Epoch 17/100\n",
      "25/25 [==============================] - 0s 7ms/step - loss: 0.4397 - accuracy: 0.8137\n",
      "Epoch 18/100\n",
      "25/25 [==============================] - 0s 5ms/step - loss: 0.4330 - accuracy: 0.8137\n",
      "Epoch 19/100\n",
      "25/25 [==============================] - 0s 5ms/step - loss: 0.4629 - accuracy: 0.7900\n",
      "Epoch 20/100\n",
      "25/25 [==============================] - 0s 6ms/step - loss: 0.4583 - accuracy: 0.7912\n",
      "Epoch 21/100\n",
      "25/25 [==============================] - 0s 5ms/step - loss: 0.4289 - accuracy: 0.8062\n",
      "Epoch 22/100\n",
      "25/25 [==============================] - 0s 6ms/step - loss: 0.4292 - accuracy: 0.8137\n",
      "Epoch 23/100\n",
      "25/25 [==============================] - 0s 6ms/step - loss: 0.4223 - accuracy: 0.8137\n",
      "Epoch 24/100\n",
      "25/25 [==============================] - 0s 6ms/step - loss: 0.4222 - accuracy: 0.8137\n",
      "Epoch 25/100\n",
      "25/25 [==============================] - 0s 6ms/step - loss: 0.4212 - accuracy: 0.8037\n",
      "Epoch 26/100\n",
      "25/25 [==============================] - 0s 7ms/step - loss: 0.4177 - accuracy: 0.8187\n",
      "Epoch 27/100\n",
      "25/25 [==============================] - 0s 6ms/step - loss: 0.4239 - accuracy: 0.8087\n",
      "Epoch 28/100\n",
      "25/25 [==============================] - 0s 6ms/step - loss: 0.4129 - accuracy: 0.8112\n",
      "Epoch 29/100\n",
      "25/25 [==============================] - 0s 7ms/step - loss: 0.4120 - accuracy: 0.8212\n",
      "Epoch 30/100\n",
      "25/25 [==============================] - 0s 6ms/step - loss: 0.4149 - accuracy: 0.8075\n",
      "Epoch 31/100\n",
      "25/25 [==============================] - 0s 6ms/step - loss: 0.4324 - accuracy: 0.8112\n",
      "Epoch 32/100\n",
      "25/25 [==============================] - 0s 6ms/step - loss: 0.4143 - accuracy: 0.8087\n",
      "Epoch 33/100\n",
      "25/25 [==============================] - 0s 7ms/step - loss: 0.4124 - accuracy: 0.8237\n",
      "Epoch 34/100\n",
      "25/25 [==============================] - 0s 6ms/step - loss: 0.4284 - accuracy: 0.8150\n",
      "Epoch 35/100\n",
      "25/25 [==============================] - 0s 6ms/step - loss: 0.4116 - accuracy: 0.8212\n",
      "Epoch 36/100\n",
      "25/25 [==============================] - 0s 6ms/step - loss: 0.4107 - accuracy: 0.8175\n",
      "Epoch 37/100\n",
      "25/25 [==============================] - 0s 6ms/step - loss: 0.4078 - accuracy: 0.8225\n",
      "Epoch 38/100\n",
      "25/25 [==============================] - 0s 6ms/step - loss: 0.4029 - accuracy: 0.8200\n",
      "Epoch 39/100\n",
      "25/25 [==============================] - 0s 5ms/step - loss: 0.4129 - accuracy: 0.8187\n",
      "Epoch 40/100\n",
      "25/25 [==============================] - 0s 5ms/step - loss: 0.4077 - accuracy: 0.8175\n",
      "Epoch 41/100\n",
      "25/25 [==============================] - 0s 6ms/step - loss: 0.4059 - accuracy: 0.8212\n",
      "Epoch 42/100\n",
      "25/25 [==============================] - 0s 6ms/step - loss: 0.4070 - accuracy: 0.8225\n",
      "Epoch 43/100\n",
      "25/25 [==============================] - 0s 6ms/step - loss: 0.4023 - accuracy: 0.8200\n",
      "Epoch 44/100\n",
      "25/25 [==============================] - 0s 6ms/step - loss: 0.4159 - accuracy: 0.8050\n",
      "Epoch 45/100\n",
      "25/25 [==============================] - 0s 7ms/step - loss: 0.3992 - accuracy: 0.8300\n",
      "Epoch 46/100\n",
      "25/25 [==============================] - 0s 5ms/step - loss: 0.3876 - accuracy: 0.8275\n",
      "Epoch 47/100\n",
      "25/25 [==============================] - 0s 6ms/step - loss: 0.4039 - accuracy: 0.8150\n",
      "Epoch 48/100\n",
      "25/25 [==============================] - 0s 6ms/step - loss: 0.3944 - accuracy: 0.8237\n",
      "Epoch 49/100\n",
      "25/25 [==============================] - 0s 6ms/step - loss: 0.4090 - accuracy: 0.8125\n",
      "Epoch 50/100\n",
      "25/25 [==============================] - 0s 6ms/step - loss: 0.3944 - accuracy: 0.8287\n",
      "Epoch 51/100\n",
      "25/25 [==============================] - 0s 6ms/step - loss: 0.3927 - accuracy: 0.8212\n",
      "Epoch 52/100\n",
      "25/25 [==============================] - 0s 6ms/step - loss: 0.3877 - accuracy: 0.8262\n",
      "Epoch 53/100\n",
      "25/25 [==============================] - 0s 6ms/step - loss: 0.3923 - accuracy: 0.8275\n",
      "Epoch 54/100\n",
      "25/25 [==============================] - 0s 7ms/step - loss: 0.3909 - accuracy: 0.8312\n",
      "Epoch 55/100\n",
      "25/25 [==============================] - 0s 6ms/step - loss: 0.4007 - accuracy: 0.8225\n",
      "Epoch 56/100\n",
      "25/25 [==============================] - 0s 5ms/step - loss: 0.4028 - accuracy: 0.8150\n"
     ]
    }
   ],
   "source": [
    "history = model.fit(X_train,\n",
    "                    Y_train,\n",
    "                    batch_size = 32,\n",
    "                    epochs = 100,\n",
    "                    callbacks = [callbacks], verbose = 1)"
   ]
  },
  {
   "cell_type": "markdown",
   "id": "062c7c0c",
   "metadata": {},
   "source": [
    "### 4.4 Model Evaluation (On Train Data)"
   ]
  },
  {
   "cell_type": "code",
   "execution_count": 9,
   "id": "9e32ff69",
   "metadata": {
    "scrolled": false
   },
   "outputs": [
    {
     "data": {
      "text/plain": [
       "<AxesSubplot:>"
      ]
     },
     "execution_count": 9,
     "metadata": {},
     "output_type": "execute_result"
    },
    {
     "data": {
      "image/png": "[encoded data removed]",
      "text/plain": [
       "<Figure size 640x480 with 1 Axes>"
      ]
     },
     "metadata": {},
     "output_type": "display_data"
    }
   ],
   "source": [
    "pd.DataFrame(history.history).plot()"
   ]
  },
  {
   "cell_type": "code",
   "execution_count": 10,
   "id": "b6096424",
   "metadata": {
    "scrolled": true
   },
   "outputs": [
    {
     "name": "stdout",
     "output_type": "stream",
     "text": [
      "25/25 [==============================] - 0s 4ms/step - loss: 0.3815 - accuracy: 0.8275\n"
     ]
    },
    {
     "name": "stderr",
     "output_type": "stream",
     "text": [
      "2022-11-27 21:36:35.443498: I tensorflow/core/grappler/optimizers/custom_graph_optimizer_registry.cc:114] Plugin optimizer for device_type GPU is enabled.\n"
     ]
    },
    {
     "name": "stdout",
     "output_type": "stream",
     "text": [
      "25/25 [==============================] - 0s 2ms/step\n"
     ]
    },
    {
     "name": "stderr",
     "output_type": "stream",
     "text": [
      "2022-11-27 21:36:35.658331: I tensorflow/core/grappler/optimizers/custom_graph_optimizer_registry.cc:114] Plugin optimizer for device_type GPU is enabled.\n"
     ]
    }
   ],
   "source": [
    "model.evaluate(X_train,Y_train)\n",
    "Y_train_pred = model.predict(X_train)>=0.5"
   ]
  },
  {
   "cell_type": "code",
   "execution_count": 11,
   "id": "875e0331",
   "metadata": {},
   "outputs": [
    {
     "name": "stdout",
     "output_type": "stream",
     "text": [
      "              precision    recall  f1-score   support\n",
      "\n",
      "           0       0.80      0.96      0.87       491\n",
      "           1       0.90      0.62      0.74       309\n",
      "\n",
      "    accuracy                           0.83       800\n",
      "   macro avg       0.85      0.79      0.80       800\n",
      "weighted avg       0.84      0.83      0.82       800\n",
      "\n"
     ]
    }
   ],
   "source": [
    "print(classification_report(Y_train,Y_train_pred))"
   ]
  },
  {
   "cell_type": "markdown",
   "id": "5bc53bf6",
   "metadata": {},
   "source": [
    "### 4.5 Model Prediction"
   ]
  },
  {
   "cell_type": "code",
   "execution_count": 12,
   "id": "dbb691e7",
   "metadata": {},
   "outputs": [
    {
     "name": "stdout",
     "output_type": "stream",
     "text": [
      "3/3 [==============================] - 0s 11ms/step\n"
     ]
    },
    {
     "name": "stderr",
     "output_type": "stream",
     "text": [
      "2022-11-27 21:36:35.805272: I tensorflow/core/grappler/optimizers/custom_graph_optimizer_registry.cc:114] Plugin optimizer for device_type GPU is enabled.\n"
     ]
    }
   ],
   "source": [
    "Y_test_pred = model.predict(X_test)>=0.5"
   ]
  },
  {
   "cell_type": "markdown",
   "id": "741af41d",
   "metadata": {},
   "source": [
    "## 5. Model Evaluation (On Test Data)"
   ]
  },
  {
   "cell_type": "code",
   "execution_count": 13,
   "id": "2b4cc8e5",
   "metadata": {},
   "outputs": [
    {
     "name": "stdout",
     "output_type": "stream",
     "text": [
      "              precision    recall  f1-score   support\n",
      "\n",
      "           0       0.85      0.98      0.91        58\n",
      "           1       0.95      0.68      0.79        31\n",
      "\n",
      "    accuracy                           0.88        89\n",
      "   macro avg       0.90      0.83      0.85        89\n",
      "weighted avg       0.89      0.88      0.87        89\n",
      "\n"
     ]
    }
   ],
   "source": [
    "print(classification_report(Y_test,Y_test_pred))"
   ]
  },
  {
   "cell_type": "code",
   "execution_count": 14,
   "id": "82d14c37",
   "metadata": {},
   "outputs": [
    {
     "data": {
      "text/plain": [
       "array([[57,  1],\n",
       "       [10, 21]])"
      ]
     },
     "execution_count": 14,
     "metadata": {},
     "output_type": "execute_result"
    }
   ],
   "source": [
    "confusion_matrix(Y_test,Y_test_pred)"
   ]
  },
  {
   "cell_type": "markdown",
   "id": "27ead9c9",
   "metadata": {},
   "source": [
    "## 6. Saving a model"
   ]
  },
  {
   "cell_type": "markdown",
   "id": "b3824623",
   "metadata": {},
   "source": [
    "`model.save_weights()`: Will only save the weights so if you need, you are able to apply them on a different architecture\n",
    "<br/>\n",
    "`mode.save()`: Will save the architecture of the model + the the weights + the training configuration + the state of the optimizer"
   ]
  },
  {
   "cell_type": "code",
   "execution_count": 15,
   "id": "3d3d3aa0",
   "metadata": {},
   "outputs": [],
   "source": [
    "model.save(\"Best_Models/keras.h5\")\n",
    "model.save_weights(\"Best_Models/keras_weights.h5\")"
   ]
  }
 ],
 "metadata": {
  "kernelspec": {
   "display_name": "Python (GPU_SUP)",
   "language": "python",
   "name": "gpu_sup"
  },
  "language_info": {
   "codemirror_mode": {
    "name": "ipython",
    "version": 3
   },
   "file_extension": ".py",
   "mimetype": "text/x-python",
   "name": "python",
   "nbconvert_exporter": "python",
   "pygments_lexer": "ipython3",
   "version": "3.8.13"
  }
 },
 "nbformat": 4,
 "nbformat_minor": 5
}
