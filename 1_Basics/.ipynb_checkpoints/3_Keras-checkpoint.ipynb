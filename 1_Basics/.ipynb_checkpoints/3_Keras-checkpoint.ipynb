{
 "cells": [
  {
   "cell_type": "markdown",
   "id": "a23e20db",
   "metadata": {},
   "source": [
    "## 1. Headers and Imports"
   ]
  },
  {
   "cell_type": "code",
   "execution_count": 1,
   "id": "0fd42546",
   "metadata": {},
   "outputs": [],
   "source": [
    "# Computational Libraries\n",
    "import tensorflow as tf\n",
    "import numpy as np\n",
    "import pandas as pd\n",
    "\n",
    "# Train Test Split\n",
    "from sklearn.model_selection import train_test_split\n",
    "from sklearn.preprocessing import StandardScaler\n",
    "\n",
    "# Keras Libraries\n",
    "from keras.models import Sequential\n",
    "from keras.layers import Dense,Activation,Layer,Lambda\n",
    "\n",
    "# Visualization Libraries\n",
    "import matplotlib.pyplot as plt\n",
    "import seaborn as sns\n",
    "\n",
    "# Metric Libraries\n",
    "from sklearn.metrics import classification_report\n",
    "\n",
    "%matplotlib inline"
   ]
  },
  {
   "cell_type": "markdown",
   "id": "19e2a072",
   "metadata": {},
   "source": [
    "## 2. Importing Data"
   ]
  },
  {
   "cell_type": "code",
   "execution_count": 2,
   "id": "6ff9edba",
   "metadata": {},
   "outputs": [
    {
     "data": {
      "text/html": [
       "<div>\n",
       "<style scoped>\n",
       "    .dataframe tbody tr th:only-of-type {\n",
       "        vertical-align: middle;\n",
       "    }\n",
       "\n",
       "    .dataframe tbody tr th {\n",
       "        vertical-align: top;\n",
       "    }\n",
       "\n",
       "    .dataframe thead th {\n",
       "        text-align: right;\n",
       "    }\n",
       "</style>\n",
       "<table border=\"1\" class=\"dataframe\">\n",
       "  <thead>\n",
       "    <tr style=\"text-align: right;\">\n",
       "      <th></th>\n",
       "      <th>Unnamed: 0</th>\n",
       "      <th>Survived</th>\n",
       "      <th>Pclass</th>\n",
       "      <th>Age</th>\n",
       "      <th>SibSp</th>\n",
       "      <th>Parch</th>\n",
       "      <th>Fare</th>\n",
       "      <th>Sex_female</th>\n",
       "      <th>Sex_male</th>\n",
       "      <th>Embarked_C</th>\n",
       "      <th>Embarked_Q</th>\n",
       "      <th>Embarked_S</th>\n",
       "    </tr>\n",
       "  </thead>\n",
       "  <tbody>\n",
       "    <tr>\n",
       "      <th>0</th>\n",
       "      <td>0</td>\n",
       "      <td>0</td>\n",
       "      <td>3</td>\n",
       "      <td>22.0</td>\n",
       "      <td>1</td>\n",
       "      <td>0</td>\n",
       "      <td>7.2500</td>\n",
       "      <td>0</td>\n",
       "      <td>1</td>\n",
       "      <td>0</td>\n",
       "      <td>0</td>\n",
       "      <td>1</td>\n",
       "    </tr>\n",
       "    <tr>\n",
       "      <th>1</th>\n",
       "      <td>1</td>\n",
       "      <td>1</td>\n",
       "      <td>1</td>\n",
       "      <td>38.0</td>\n",
       "      <td>1</td>\n",
       "      <td>0</td>\n",
       "      <td>71.2833</td>\n",
       "      <td>1</td>\n",
       "      <td>0</td>\n",
       "      <td>1</td>\n",
       "      <td>0</td>\n",
       "      <td>0</td>\n",
       "    </tr>\n",
       "    <tr>\n",
       "      <th>2</th>\n",
       "      <td>2</td>\n",
       "      <td>1</td>\n",
       "      <td>3</td>\n",
       "      <td>26.0</td>\n",
       "      <td>0</td>\n",
       "      <td>0</td>\n",
       "      <td>7.9250</td>\n",
       "      <td>1</td>\n",
       "      <td>0</td>\n",
       "      <td>0</td>\n",
       "      <td>0</td>\n",
       "      <td>1</td>\n",
       "    </tr>\n",
       "    <tr>\n",
       "      <th>3</th>\n",
       "      <td>3</td>\n",
       "      <td>1</td>\n",
       "      <td>1</td>\n",
       "      <td>35.0</td>\n",
       "      <td>1</td>\n",
       "      <td>0</td>\n",
       "      <td>53.1000</td>\n",
       "      <td>1</td>\n",
       "      <td>0</td>\n",
       "      <td>0</td>\n",
       "      <td>0</td>\n",
       "      <td>1</td>\n",
       "    </tr>\n",
       "    <tr>\n",
       "      <th>4</th>\n",
       "      <td>4</td>\n",
       "      <td>0</td>\n",
       "      <td>3</td>\n",
       "      <td>35.0</td>\n",
       "      <td>0</td>\n",
       "      <td>0</td>\n",
       "      <td>8.0500</td>\n",
       "      <td>0</td>\n",
       "      <td>1</td>\n",
       "      <td>0</td>\n",
       "      <td>0</td>\n",
       "      <td>1</td>\n",
       "    </tr>\n",
       "  </tbody>\n",
       "</table>\n",
       "</div>"
      ],
      "text/plain": [
       "   Unnamed: 0  Survived  Pclass   Age  SibSp  Parch     Fare  Sex_female  \\\n",
       "0           0         0       3  22.0      1      0   7.2500           0   \n",
       "1           1         1       1  38.0      1      0  71.2833           1   \n",
       "2           2         1       3  26.0      0      0   7.9250           1   \n",
       "3           3         1       1  35.0      1      0  53.1000           1   \n",
       "4           4         0       3  35.0      0      0   8.0500           0   \n",
       "\n",
       "   Sex_male  Embarked_C  Embarked_Q  Embarked_S  \n",
       "0         1           0           0           1  \n",
       "1         0           1           0           0  \n",
       "2         0           0           0           1  \n",
       "3         0           0           0           1  \n",
       "4         1           0           0           1  "
      ]
     },
     "execution_count": 2,
     "metadata": {},
     "output_type": "execute_result"
    }
   ],
   "source": [
    "df = pd.read_csv(\"./Processed_Data/titanic/train.csv\")\n",
    "df.head()"
   ]
  },
  {
   "cell_type": "markdown",
   "id": "4e241f93",
   "metadata": {},
   "source": [
    "## 3. Data Scaling"
   ]
  },
  {
   "cell_type": "code",
   "execution_count": 3,
   "id": "19ef53dd",
   "metadata": {},
   "outputs": [],
   "source": [
    "labels = df[\"Survived\"]\n",
    "features = df.drop(columns= [\"Survived\"])"
   ]
  },
  {
   "cell_type": "code",
   "execution_count": 4,
   "id": "ff912e10",
   "metadata": {},
   "outputs": [],
   "source": [
    "scaler = StandardScaler()\n",
    "\n",
    "index = features.columns\n",
    "features_ = scaler.fit_transform(features)\n",
    "features_scaled = pd.DataFrame(features_, columns = index)\n",
    "\n",
    "X = features_scaled"
   ]
  },
  {
   "cell_type": "markdown",
   "id": "f1ccda00",
   "metadata": {},
   "source": [
    "## 4. Data Split"
   ]
  },
  {
   "cell_type": "code",
   "execution_count": 35,
   "id": "035b712d",
   "metadata": {},
   "outputs": [
    {
     "name": "stdout",
     "output_type": "stream",
     "text": [
      "Shape of Training Set \n",
      " X_Train : (595, 11)\n",
      " Y_Train : (595,)\n",
      "Shape of Evaluation Set \n",
      " X_Train : (294, 11)\n",
      " Y_Train : (294,)\n"
     ]
    }
   ],
   "source": [
    "X_train, X_test, Y_train, Y_test = train_test_split(X,labels,test_size = 0.33, random_state = 33)\n",
    "print(f\"Shape of Training Set \\n X_Train : {X_train.shape}\\n Y_Train : {Y_train.shape}\")\n",
    "print(f\"Shape of Evaluation Set \\n X_Train : {X_test.shape}\\n Y_Train : {Y_test.shape}\")"
   ]
  },
  {
   "cell_type": "markdown",
   "id": "db902ef2",
   "metadata": {},
   "source": [
    "## 4. Modelling\n"
   ]
  },
  {
   "cell_type": "code",
   "execution_count": 38,
   "id": "c868d5a8",
   "metadata": {},
   "outputs": [
    {
     "name": "stdout",
     "output_type": "stream",
     "text": [
      "Model: \"sequential_3\"\n",
      "_________________________________________________________________\n",
      " Layer (type)                Output Shape              Param #   \n",
      "=================================================================\n",
      " dense_18 (Dense)            (None, 100)               1200      \n",
      "                                                                 \n",
      " dense_19 (Dense)            (None, 100)               10100     \n",
      "                                                                 \n",
      " dense_20 (Dense)            (None, 100)               10100     \n",
      "                                                                 \n",
      " dense_21 (Dense)            (None, 100)               10100     \n",
      "                                                                 \n",
      " dense_22 (Dense)            (None, 100)               10100     \n",
      "                                                                 \n",
      " dense_23 (Dense)            (None, 1)                 101       \n",
      "                                                                 \n",
      "=================================================================\n",
      "Total params: 41,701\n",
      "Trainable params: 41,701\n",
      "Non-trainable params: 0\n",
      "_________________________________________________________________\n"
     ]
    }
   ],
   "source": [
    "# Defining Model Structure\n",
    "model = Sequential()\n",
    "model.add(Dense(100,input_shape = (11,),kernel_initializer=  \"uniform\" ,activation=\"relu\"))\n",
    "model.add(Dense(100,kernel_initializer=  \"uniform\" ,activation=\"relu\"))\n",
    "model.add(Dense(100,kernel_initializer=  \"uniform\" ,activation=\"relu\"))\n",
    "model.add(Dense(100,kernel_initializer=  \"uniform\" ,activation=\"relu\"))\n",
    "model.add(Dense(100,kernel_initializer=  \"uniform\" ,activation=\"relu\"))\n",
    "model.add(Dense(1,activation = \"sigmoid\"))\n",
    "model.summary()"
   ]
  },
  {
   "cell_type": "code",
   "execution_count": null,
   "id": "13028927",
   "metadata": {},
   "outputs": [],
   "source": []
  },
  {
   "cell_type": "code",
   "execution_count": 7,
   "id": "5896d257",
   "metadata": {},
   "outputs": [],
   "source": [
    "model.compile(loss = 'binary_crossentropy',optimizer=tf.keras.optimizers.Adam(learning_rate=0.01), metrics = ['accuracy'])"
   ]
  },
  {
   "cell_type": "code",
   "execution_count": 9,
   "id": "93e19b1e",
   "metadata": {
    "scrolled": true
   },
   "outputs": [
    {
     "name": "stdout",
     "output_type": "stream",
     "text": [
      "Epoch 1/100\n"
     ]
    },
    {
     "name": "stderr",
     "output_type": "stream",
     "text": [
      "2022-11-27 13:08:02.576582: W tensorflow/core/platform/profile_utils/cpu_utils.cc:128] Failed to get CPU frequency: 0 Hz\n"
     ]
    },
    {
     "name": "stdout",
     "output_type": "stream",
     "text": [
      "\r",
      " 1/19 [>.............................] - ETA: 7s - loss: 0.6932 - accuracy: 0.4062"
     ]
    },
    {
     "name": "stderr",
     "output_type": "stream",
     "text": [
      "2022-11-27 13:08:02.806634: I tensorflow/core/grappler/optimizers/custom_graph_optimizer_registry.cc:114] Plugin optimizer for device_type GPU is enabled.\n"
     ]
    },
    {
     "name": "stdout",
     "output_type": "stream",
     "text": [
      "19/19 [==============================] - 1s 12ms/step - loss: 0.5785 - accuracy: 0.6992\n",
      "Epoch 2/100\n",
      "19/19 [==============================] - 0s 8ms/step - loss: 0.5028 - accuracy: 0.8017\n",
      "Epoch 3/100\n",
      "19/19 [==============================] - 0s 8ms/step - loss: 0.4669 - accuracy: 0.7983\n",
      "Epoch 4/100\n",
      "19/19 [==============================] - 0s 8ms/step - loss: 0.4453 - accuracy: 0.8134\n",
      "Epoch 5/100\n",
      "19/19 [==============================] - 0s 8ms/step - loss: 0.4310 - accuracy: 0.8218\n",
      "Epoch 6/100\n",
      "19/19 [==============================] - 0s 8ms/step - loss: 0.4259 - accuracy: 0.8050\n",
      "Epoch 7/100\n",
      "19/19 [==============================] - 0s 8ms/step - loss: 0.4020 - accuracy: 0.8202\n",
      "Epoch 8/100\n",
      "19/19 [==============================] - 0s 8ms/step - loss: 0.3959 - accuracy: 0.8134\n",
      "Epoch 9/100\n",
      "19/19 [==============================] - 0s 8ms/step - loss: 0.3990 - accuracy: 0.8235\n",
      "Epoch 10/100\n",
      "19/19 [==============================] - 0s 8ms/step - loss: 0.3774 - accuracy: 0.8353\n",
      "Epoch 11/100\n",
      "19/19 [==============================] - 0s 8ms/step - loss: 0.4034 - accuracy: 0.8303\n",
      "Epoch 12/100\n",
      "19/19 [==============================] - 0s 8ms/step - loss: 0.4042 - accuracy: 0.8370\n",
      "Epoch 13/100\n",
      "19/19 [==============================] - 0s 8ms/step - loss: 0.4067 - accuracy: 0.8403\n",
      "Epoch 14/100\n",
      "19/19 [==============================] - 0s 8ms/step - loss: 0.3681 - accuracy: 0.8487\n",
      "Epoch 15/100\n",
      "19/19 [==============================] - 0s 8ms/step - loss: 0.3557 - accuracy: 0.8471\n",
      "Epoch 16/100\n",
      "19/19 [==============================] - 0s 8ms/step - loss: 0.3714 - accuracy: 0.8252\n",
      "Epoch 17/100\n",
      "19/19 [==============================] - 0s 8ms/step - loss: 0.3690 - accuracy: 0.8084\n",
      "Epoch 18/100\n",
      "19/19 [==============================] - 0s 8ms/step - loss: 0.3673 - accuracy: 0.8387\n",
      "Epoch 19/100\n",
      "19/19 [==============================] - 0s 8ms/step - loss: 0.3796 - accuracy: 0.8538\n",
      "Epoch 20/100\n",
      "19/19 [==============================] - 0s 8ms/step - loss: 0.3531 - accuracy: 0.8403\n",
      "Epoch 21/100\n",
      "19/19 [==============================] - 0s 8ms/step - loss: 0.3639 - accuracy: 0.8303\n",
      "Epoch 22/100\n",
      "19/19 [==============================] - 0s 8ms/step - loss: 0.3528 - accuracy: 0.8370\n",
      "Epoch 23/100\n",
      "19/19 [==============================] - 0s 8ms/step - loss: 0.3418 - accuracy: 0.8487\n",
      "Epoch 24/100\n",
      "19/19 [==============================] - 0s 8ms/step - loss: 0.3330 - accuracy: 0.8571\n",
      "Epoch 25/100\n",
      "19/19 [==============================] - 0s 8ms/step - loss: 0.3460 - accuracy: 0.8555\n",
      "Epoch 26/100\n",
      "19/19 [==============================] - 0s 8ms/step - loss: 0.3590 - accuracy: 0.8420\n",
      "Epoch 27/100\n",
      "19/19 [==============================] - 0s 8ms/step - loss: 0.3293 - accuracy: 0.8571\n",
      "Epoch 28/100\n",
      "19/19 [==============================] - 0s 8ms/step - loss: 0.3201 - accuracy: 0.8622\n",
      "Epoch 29/100\n",
      "19/19 [==============================] - 0s 8ms/step - loss: 0.3216 - accuracy: 0.8555\n",
      "Epoch 30/100\n",
      "19/19 [==============================] - 0s 8ms/step - loss: 0.3474 - accuracy: 0.8504\n",
      "Epoch 31/100\n",
      "19/19 [==============================] - 0s 8ms/step - loss: 0.3323 - accuracy: 0.8588\n",
      "Epoch 32/100\n",
      "19/19 [==============================] - 0s 8ms/step - loss: 0.3362 - accuracy: 0.8504\n",
      "Epoch 33/100\n",
      "19/19 [==============================] - 0s 8ms/step - loss: 0.3180 - accuracy: 0.8605\n",
      "Epoch 34/100\n",
      "19/19 [==============================] - 0s 8ms/step - loss: 0.3034 - accuracy: 0.8639\n",
      "Epoch 35/100\n",
      "19/19 [==============================] - 0s 8ms/step - loss: 0.3019 - accuracy: 0.8605\n",
      "Epoch 36/100\n",
      "19/19 [==============================] - 0s 8ms/step - loss: 0.2952 - accuracy: 0.8773\n",
      "Epoch 37/100\n",
      "19/19 [==============================] - 0s 8ms/step - loss: 0.3015 - accuracy: 0.8689\n",
      "Epoch 38/100\n",
      "19/19 [==============================] - 0s 8ms/step - loss: 0.3475 - accuracy: 0.8706\n",
      "Epoch 39/100\n",
      "19/19 [==============================] - 0s 8ms/step - loss: 0.3295 - accuracy: 0.8672\n",
      "Epoch 40/100\n",
      "19/19 [==============================] - 0s 8ms/step - loss: 0.3081 - accuracy: 0.8538\n",
      "Epoch 41/100\n",
      "19/19 [==============================] - 0s 8ms/step - loss: 0.3030 - accuracy: 0.8790\n",
      "Epoch 42/100\n",
      "19/19 [==============================] - 0s 8ms/step - loss: 0.2891 - accuracy: 0.8639\n",
      "Epoch 43/100\n",
      "19/19 [==============================] - 0s 8ms/step - loss: 0.3296 - accuracy: 0.8571\n",
      "Epoch 44/100\n",
      "19/19 [==============================] - 0s 8ms/step - loss: 0.3039 - accuracy: 0.8739\n",
      "Epoch 45/100\n",
      "19/19 [==============================] - 0s 8ms/step - loss: 0.3046 - accuracy: 0.8639\n",
      "Epoch 46/100\n",
      "19/19 [==============================] - 0s 8ms/step - loss: 0.2715 - accuracy: 0.8874\n",
      "Epoch 47/100\n",
      "19/19 [==============================] - 0s 8ms/step - loss: 0.2852 - accuracy: 0.8773\n",
      "Epoch 48/100\n",
      "19/19 [==============================] - 0s 8ms/step - loss: 0.3355 - accuracy: 0.8605\n",
      "Epoch 49/100\n",
      "19/19 [==============================] - 0s 8ms/step - loss: 0.3003 - accuracy: 0.8555\n",
      "Epoch 50/100\n",
      "19/19 [==============================] - 0s 8ms/step - loss: 0.2844 - accuracy: 0.8807\n",
      "Epoch 51/100\n",
      "19/19 [==============================] - 0s 8ms/step - loss: 0.2650 - accuracy: 0.8874\n",
      "Epoch 52/100\n",
      "19/19 [==============================] - 0s 8ms/step - loss: 0.2695 - accuracy: 0.8857\n",
      "Epoch 53/100\n",
      "19/19 [==============================] - 0s 8ms/step - loss: 0.2575 - accuracy: 0.8840\n",
      "Epoch 54/100\n",
      "19/19 [==============================] - 0s 8ms/step - loss: 0.2522 - accuracy: 0.8840\n",
      "Epoch 55/100\n",
      "19/19 [==============================] - 0s 8ms/step - loss: 0.2521 - accuracy: 0.8857\n",
      "Epoch 56/100\n",
      "19/19 [==============================] - 0s 8ms/step - loss: 0.2605 - accuracy: 0.8941\n",
      "Epoch 57/100\n",
      "19/19 [==============================] - 0s 8ms/step - loss: 0.2697 - accuracy: 0.8739\n",
      "Epoch 58/100\n",
      "19/19 [==============================] - 0s 8ms/step - loss: 0.2704 - accuracy: 0.8790\n",
      "Epoch 59/100\n",
      "19/19 [==============================] - 0s 8ms/step - loss: 0.2562 - accuracy: 0.8975\n",
      "Epoch 60/100\n",
      "19/19 [==============================] - 0s 8ms/step - loss: 0.2483 - accuracy: 0.8908\n",
      "Epoch 61/100\n",
      "19/19 [==============================] - 0s 8ms/step - loss: 0.2615 - accuracy: 0.8924\n",
      "Epoch 62/100\n",
      "19/19 [==============================] - 0s 8ms/step - loss: 0.2647 - accuracy: 0.8824\n",
      "Epoch 63/100\n",
      "19/19 [==============================] - 0s 8ms/step - loss: 0.2446 - accuracy: 0.8874\n",
      "Epoch 64/100\n",
      "19/19 [==============================] - 0s 8ms/step - loss: 0.2635 - accuracy: 0.8908\n",
      "Epoch 65/100\n",
      "19/19 [==============================] - 0s 8ms/step - loss: 0.2433 - accuracy: 0.8992\n",
      "Epoch 66/100\n",
      "19/19 [==============================] - 0s 8ms/step - loss: 0.2801 - accuracy: 0.8840\n",
      "Epoch 67/100\n",
      "19/19 [==============================] - 0s 8ms/step - loss: 0.2724 - accuracy: 0.8824\n",
      "Epoch 68/100\n",
      "19/19 [==============================] - 0s 8ms/step - loss: 0.2794 - accuracy: 0.8874\n",
      "Epoch 69/100\n",
      "19/19 [==============================] - 0s 8ms/step - loss: 0.2545 - accuracy: 0.8824\n",
      "Epoch 70/100\n",
      "19/19 [==============================] - 0s 8ms/step - loss: 0.2423 - accuracy: 0.8975\n",
      "Epoch 71/100\n",
      "19/19 [==============================] - 0s 8ms/step - loss: 0.2270 - accuracy: 0.8975\n",
      "Epoch 72/100\n",
      "19/19 [==============================] - 0s 8ms/step - loss: 0.2965 - accuracy: 0.8958\n",
      "Epoch 73/100\n",
      "19/19 [==============================] - 0s 8ms/step - loss: 0.2837 - accuracy: 0.8840\n",
      "Epoch 74/100\n",
      "19/19 [==============================] - 0s 8ms/step - loss: 0.2503 - accuracy: 0.8941\n",
      "Epoch 75/100\n",
      "19/19 [==============================] - 0s 8ms/step - loss: 0.2526 - accuracy: 0.8975\n",
      "Epoch 76/100\n",
      "19/19 [==============================] - 0s 8ms/step - loss: 0.2451 - accuracy: 0.9025\n",
      "Epoch 77/100\n",
      "19/19 [==============================] - 0s 8ms/step - loss: 0.2457 - accuracy: 0.8924\n",
      "Epoch 78/100\n",
      "19/19 [==============================] - 0s 8ms/step - loss: 0.2434 - accuracy: 0.8857\n",
      "Epoch 79/100\n",
      "19/19 [==============================] - 0s 8ms/step - loss: 0.2370 - accuracy: 0.8924\n",
      "Epoch 80/100\n",
      "19/19 [==============================] - 0s 8ms/step - loss: 0.2369 - accuracy: 0.9042\n",
      "Epoch 81/100\n",
      "19/19 [==============================] - 0s 8ms/step - loss: 0.2282 - accuracy: 0.9076\n",
      "Epoch 82/100\n",
      "19/19 [==============================] - 0s 8ms/step - loss: 0.2333 - accuracy: 0.9076\n",
      "Epoch 83/100\n"
     ]
    },
    {
     "name": "stdout",
     "output_type": "stream",
     "text": [
      "19/19 [==============================] - 0s 8ms/step - loss: 0.2302 - accuracy: 0.9143\n",
      "Epoch 84/100\n",
      "19/19 [==============================] - 0s 8ms/step - loss: 0.2385 - accuracy: 0.9059\n",
      "Epoch 85/100\n",
      "19/19 [==============================] - 0s 8ms/step - loss: 0.2436 - accuracy: 0.9109\n",
      "Epoch 86/100\n",
      "19/19 [==============================] - 0s 8ms/step - loss: 0.2179 - accuracy: 0.9076\n",
      "Epoch 87/100\n",
      "19/19 [==============================] - 0s 8ms/step - loss: 0.2734 - accuracy: 0.8807\n",
      "Epoch 88/100\n",
      "19/19 [==============================] - 0s 8ms/step - loss: 0.3468 - accuracy: 0.8571\n",
      "Epoch 89/100\n",
      "19/19 [==============================] - 0s 8ms/step - loss: 0.3490 - accuracy: 0.8471\n",
      "Epoch 90/100\n",
      "19/19 [==============================] - 0s 8ms/step - loss: 0.3064 - accuracy: 0.8571\n",
      "Epoch 91/100\n",
      "19/19 [==============================] - 0s 8ms/step - loss: 0.3414 - accuracy: 0.8437\n",
      "Epoch 92/100\n",
      "19/19 [==============================] - 0s 8ms/step - loss: 0.2975 - accuracy: 0.8790\n",
      "Epoch 93/100\n",
      "19/19 [==============================] - 0s 8ms/step - loss: 0.2991 - accuracy: 0.8723\n",
      "Epoch 94/100\n",
      "19/19 [==============================] - 0s 8ms/step - loss: 0.3044 - accuracy: 0.8824\n",
      "Epoch 95/100\n",
      "19/19 [==============================] - 0s 8ms/step - loss: 0.2581 - accuracy: 0.8941\n",
      "Epoch 96/100\n",
      "19/19 [==============================] - 0s 8ms/step - loss: 0.2405 - accuracy: 0.8975\n",
      "Epoch 97/100\n",
      "19/19 [==============================] - 0s 8ms/step - loss: 0.2387 - accuracy: 0.9008\n",
      "Epoch 98/100\n",
      "19/19 [==============================] - 0s 8ms/step - loss: 0.2483 - accuracy: 0.8924\n",
      "Epoch 99/100\n",
      "19/19 [==============================] - 0s 8ms/step - loss: 0.2266 - accuracy: 0.8992\n",
      "Epoch 100/100\n",
      "19/19 [==============================] - 0s 8ms/step - loss: 0.2289 - accuracy: 0.9025\n"
     ]
    }
   ],
   "source": [
    "history = model.fit(X_train,Y_train, batch_size = 32, epochs = 100)"
   ]
  },
  {
   "cell_type": "code",
   "execution_count": 10,
   "id": "b74b8f3b",
   "metadata": {},
   "outputs": [
    {
     "name": "stdout",
     "output_type": "stream",
     "text": [
      "19/19 [==============================] - 0s 7ms/step - loss: 0.2035 - accuracy: 0.9092\n"
     ]
    },
    {
     "name": "stderr",
     "output_type": "stream",
     "text": [
      "2022-11-27 13:08:18.263672: I tensorflow/core/grappler/optimizers/custom_graph_optimizer_registry.cc:114] Plugin optimizer for device_type GPU is enabled.\n"
     ]
    },
    {
     "data": {
      "text/plain": [
       "[0.20350220799446106, 0.9092437028884888]"
      ]
     },
     "execution_count": 10,
     "metadata": {},
     "output_type": "execute_result"
    }
   ],
   "source": [
    "model.evaluate(X_train,Y_train)"
   ]
  },
  {
   "cell_type": "code",
   "execution_count": 16,
   "id": "06ca2eef",
   "metadata": {},
   "outputs": [
    {
     "name": "stdout",
     "output_type": "stream",
     "text": [
      "19/19 [==============================] - 0s 4ms/step\n",
      "10/10 [==============================] - 0s 3ms/step\n"
     ]
    }
   ],
   "source": [
    "Y_train_pred = model.predict(X_train)>=0.5\n",
    "Y_test_pred = model.predict(X_test)>=0.5"
   ]
  },
  {
   "cell_type": "code",
   "execution_count": 17,
   "id": "733bc6f0",
   "metadata": {},
   "outputs": [
    {
     "data": {
      "text/plain": [
       "<matplotlib.collections.PathCollection at 0x2906ee550>"
      ]
     },
     "execution_count": 17,
     "metadata": {},
     "output_type": "execute_result"
    },
    {
     "data": {
      "image/png": "[encoded data removed]",
      "text/plain": [
       "<Figure size 640x480 with 1 Axes>"
      ]
     },
     "metadata": {},
     "output_type": "display_data"
    }
   ],
   "source": [
    "plt.scatter(X_test[\"Age\"],Y_test, color= \"y\", )\n",
    "plt.scatter(X_test[\"Age\"],Y_pred, color = \"g\")"
   ]
  },
  {
   "cell_type": "code",
   "execution_count": 20,
   "id": "f53514a0",
   "metadata": {},
   "outputs": [
    {
     "name": "stdout",
     "output_type": "stream",
     "text": [
      "              precision    recall  f1-score   support\n",
      "\n",
      "           0       0.92      0.93      0.93       360\n",
      "           1       0.89      0.88      0.88       235\n",
      "\n",
      "    accuracy                           0.91       595\n",
      "   macro avg       0.91      0.90      0.90       595\n",
      "weighted avg       0.91      0.91      0.91       595\n",
      "\n"
     ]
    }
   ],
   "source": [
    "print(classification_report(Y_train,Y_train_pred))"
   ]
  },
  {
   "cell_type": "code",
   "execution_count": 21,
   "id": "ae60c88d",
   "metadata": {},
   "outputs": [
    {
     "data": {
      "text/plain": [
       "<AxesSubplot:>"
      ]
     },
     "execution_count": 21,
     "metadata": {},
     "output_type": "execute_result"
    },
    {
     "data": {
      "image/png": "[encoded data removed]",
      "text/plain": [
       "<Figure size 640x480 with 1 Axes>"
      ]
     },
     "metadata": {},
     "output_type": "display_data"
    }
   ],
   "source": [
    "pd.DataFrame(history.history).plot()"
   ]
  },
  {
   "cell_type": "code",
   "execution_count": null,
   "id": "6f6fb7f8",
   "metadata": {},
   "outputs": [],
   "source": []
  }
 ],
 "metadata": {
  "kernelspec": {
   "display_name": "Python (GPU_SUP)",
   "language": "python",
   "name": "gpu_sup"
  },
  "language_info": {
   "codemirror_mode": {
    "name": "ipython",
    "version": 3
   },
   "file_extension": ".py",
   "mimetype": "text/x-python",
   "name": "python",
   "nbconvert_exporter": "python",
   "pygments_lexer": "ipython3",
   "version": "3.8.13"
  }
 },
 "nbformat": 4,
 "nbformat_minor": 5
}
