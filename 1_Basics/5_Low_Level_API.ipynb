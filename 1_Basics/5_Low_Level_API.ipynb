{
 "cells": [
  {
   "cell_type": "markdown",
   "id": "62ecc414",
   "metadata": {},
   "source": [
    "## 1. Headers and Imports"
   ]
  },
  {
   "cell_type": "code",
   "execution_count": 252,
   "id": "b6259560",
   "metadata": {},
   "outputs": [],
   "source": [
    "# Computational Libraries\n",
    "import tensorflow as tf\n",
    "import numpy as np\n",
    "import pandas as pd\n",
    "\n",
    "# Train Test Split\n",
    "from sklearn.model_selection import train_test_split\n",
    "\n",
    "# Tensorflow Modelling Imports\n",
    "from tensorflow.nn import relu, sigmoid\n",
    "\n",
    "# Keras Callbacks\n",
    "from keras.callbacks import LearningRateScheduler, ModelCheckpoint, EarlyStopping, TensorBoard, CSVLogger\n",
    "\n",
    "# Visualization Libraries\n",
    "import matplotlib.pyplot as plt\n",
    "import seaborn as sns\n",
    "\n",
    "# Metric Libraries\n",
    "from sklearn.metrics import confusion_matrix, ConfusionMatrixDisplay\n",
    "from sklearn.metrics import classification_report\n",
    "\n",
    "from IPython.display import display, clear_output\n",
    "\n",
    "%matplotlib inline"
   ]
  },
  {
   "cell_type": "markdown",
   "id": "adbb2406",
   "metadata": {},
   "source": [
    "## 2. Bolier Code"
   ]
  },
  {
   "cell_type": "code",
   "execution_count": 253,
   "id": "1ddde644",
   "metadata": {
    "scrolled": true
   },
   "outputs": [
    {
     "data": {
      "text/html": [
       "<div>\n",
       "<style scoped>\n",
       "    .dataframe tbody tr th:only-of-type {\n",
       "        vertical-align: middle;\n",
       "    }\n",
       "\n",
       "    .dataframe tbody tr th {\n",
       "        vertical-align: top;\n",
       "    }\n",
       "\n",
       "    .dataframe thead th {\n",
       "        text-align: right;\n",
       "    }\n",
       "</style>\n",
       "<table border=\"1\" class=\"dataframe\">\n",
       "  <thead>\n",
       "    <tr style=\"text-align: right;\">\n",
       "      <th></th>\n",
       "      <th>Survived</th>\n",
       "      <th>Pclass</th>\n",
       "      <th>Age</th>\n",
       "      <th>SibSp</th>\n",
       "      <th>Parch</th>\n",
       "      <th>Fare</th>\n",
       "      <th>Sex_female</th>\n",
       "      <th>Sex_male</th>\n",
       "      <th>Embarked_C</th>\n",
       "      <th>Embarked_Q</th>\n",
       "      <th>Embarked_S</th>\n",
       "    </tr>\n",
       "  </thead>\n",
       "  <tbody>\n",
       "    <tr>\n",
       "      <th>0</th>\n",
       "      <td>0.0</td>\n",
       "      <td>3.0</td>\n",
       "      <td>22.0</td>\n",
       "      <td>1.0</td>\n",
       "      <td>0.0</td>\n",
       "      <td>7.250000</td>\n",
       "      <td>0.0</td>\n",
       "      <td>1.0</td>\n",
       "      <td>0.0</td>\n",
       "      <td>0.0</td>\n",
       "      <td>1.0</td>\n",
       "    </tr>\n",
       "    <tr>\n",
       "      <th>1</th>\n",
       "      <td>1.0</td>\n",
       "      <td>1.0</td>\n",
       "      <td>38.0</td>\n",
       "      <td>1.0</td>\n",
       "      <td>0.0</td>\n",
       "      <td>71.283302</td>\n",
       "      <td>1.0</td>\n",
       "      <td>0.0</td>\n",
       "      <td>1.0</td>\n",
       "      <td>0.0</td>\n",
       "      <td>0.0</td>\n",
       "    </tr>\n",
       "    <tr>\n",
       "      <th>2</th>\n",
       "      <td>1.0</td>\n",
       "      <td>3.0</td>\n",
       "      <td>26.0</td>\n",
       "      <td>0.0</td>\n",
       "      <td>0.0</td>\n",
       "      <td>7.925000</td>\n",
       "      <td>1.0</td>\n",
       "      <td>0.0</td>\n",
       "      <td>0.0</td>\n",
       "      <td>0.0</td>\n",
       "      <td>1.0</td>\n",
       "    </tr>\n",
       "    <tr>\n",
       "      <th>3</th>\n",
       "      <td>1.0</td>\n",
       "      <td>1.0</td>\n",
       "      <td>35.0</td>\n",
       "      <td>1.0</td>\n",
       "      <td>0.0</td>\n",
       "      <td>53.099998</td>\n",
       "      <td>1.0</td>\n",
       "      <td>0.0</td>\n",
       "      <td>0.0</td>\n",
       "      <td>0.0</td>\n",
       "      <td>1.0</td>\n",
       "    </tr>\n",
       "    <tr>\n",
       "      <th>4</th>\n",
       "      <td>0.0</td>\n",
       "      <td>3.0</td>\n",
       "      <td>35.0</td>\n",
       "      <td>0.0</td>\n",
       "      <td>0.0</td>\n",
       "      <td>8.050000</td>\n",
       "      <td>0.0</td>\n",
       "      <td>1.0</td>\n",
       "      <td>0.0</td>\n",
       "      <td>0.0</td>\n",
       "      <td>1.0</td>\n",
       "    </tr>\n",
       "  </tbody>\n",
       "</table>\n",
       "</div>"
      ],
      "text/plain": [
       "   Survived  Pclass   Age  SibSp  Parch       Fare  Sex_female  Sex_male  \\\n",
       "0       0.0     3.0  22.0    1.0    0.0   7.250000         0.0       1.0   \n",
       "1       1.0     1.0  38.0    1.0    0.0  71.283302         1.0       0.0   \n",
       "2       1.0     3.0  26.0    0.0    0.0   7.925000         1.0       0.0   \n",
       "3       1.0     1.0  35.0    1.0    0.0  53.099998         1.0       0.0   \n",
       "4       0.0     3.0  35.0    0.0    0.0   8.050000         0.0       1.0   \n",
       "\n",
       "   Embarked_C  Embarked_Q  Embarked_S  \n",
       "0         0.0         0.0         1.0  \n",
       "1         1.0         0.0         0.0  \n",
       "2         0.0         0.0         1.0  \n",
       "3         0.0         0.0         1.0  \n",
       "4         0.0         0.0         1.0  "
      ]
     },
     "metadata": {},
     "output_type": "display_data"
    }
   ],
   "source": [
    "# Data Importing\n",
    "df = pd.read_csv(\"./Processed_Data/titanic/train.csv\", dtype=np.dtype(\"float32\"))\n",
    "display(df.head())\n",
    "\n",
    "# Features and Labels\n",
    "labels = df[\"Survived\"]\n",
    "features = df.drop(columns= [\"Survived\"])"
   ]
  },
  {
   "cell_type": "markdown",
   "id": "dceb2938",
   "metadata": {},
   "source": [
    "### Vectorize Input Data"
   ]
  },
  {
   "cell_type": "code",
   "execution_count": 254,
   "id": "5436cefd",
   "metadata": {},
   "outputs": [],
   "source": [
    "def verctorizeData(X,Y):\n",
    "    X_flattened = tf.transpose(tf.reshape(X,(X.shape[0],-1)))\n",
    "    Y_flattened = tf.transpose(tf.reshape(Y,(Y.shape[0],-1)))\n",
    "    return  X_flattened,Y_flattened"
   ]
  },
  {
   "cell_type": "code",
   "execution_count": 255,
   "id": "65014d79",
   "metadata": {},
   "outputs": [
    {
     "name": "stdout",
     "output_type": "stream",
     "text": [
      "Shape of Training Set \n",
      " X_Train : (800, 10)\n",
      " Y_Train : (800,)\n",
      "Shape of Evaluation Set \n",
      " X_Train : (89, 10)\n",
      " Y_Train : (89,)\n",
      "(10, 800)\n",
      "(1, 800)\n"
     ]
    }
   ],
   "source": [
    "X_train, X_test, Y_train, Y_test = train_test_split(features,labels,test_size = 0.1, random_state = 33)\n",
    "print(f\"Shape of Training Set \\n X_Train : {X_train.shape}\\n Y_Train : {Y_train.shape}\")\n",
    "print(f\"Shape of Evaluation Set \\n X_Train : {X_test.shape}\\n Y_Train : {Y_test.shape}\")\n",
    "\n",
    "features,labels = verctorizeData(X_train,Y_train)\n",
    "print(features.shape)\n",
    "print(labels.shape)\n",
    "# Data Split"
   ]
  },
  {
   "cell_type": "markdown",
   "id": "be6425db",
   "metadata": {},
   "source": [
    "## 3. Modelling"
   ]
  },
  {
   "cell_type": "markdown",
   "id": "6bd149bd",
   "metadata": {},
   "source": [
    "### 3.1 Constants"
   ]
  },
  {
   "cell_type": "code",
   "execution_count": 267,
   "id": "5e6f0ee8",
   "metadata": {},
   "outputs": [],
   "source": [
    "learning_rate = 0.001\n",
    "epochs = 1000\n",
    "batch_size =128\n",
    "\n",
    "n_x = 10\n",
    "dims = [n_x,20,10,5,1]\n",
    "\n",
    "# Regularization Parameter\n",
    "lambd = 0.8\n",
    "\n",
    "# Droupout parameter\n",
    "dropOutList=[0,1,1,1,0]\n",
    "keepProp = 0.8\n",
    "\n",
    "epsilon = 1e-5"
   ]
  },
  {
   "cell_type": "code",
   "execution_count": 257,
   "id": "b267bb86",
   "metadata": {},
   "outputs": [],
   "source": [
    "def sigmoidBackward(dA,Z):\n",
    "    sigmoid_val = sigmoid(Z)\n",
    "    return sigmoid_val*(1-sigmoid_val)*dA\n",
    "\n",
    "def reluBackward(dA, Z):\n",
    "    Z = Z>0\n",
    "    return dA*tf.cast(Z,dtype = tf.float32)"
   ]
  },
  {
   "cell_type": "markdown",
   "id": "a731ccc1",
   "metadata": {},
   "source": [
    "### Weight Intialization"
   ]
  },
  {
   "cell_type": "code",
   "execution_count": 258,
   "id": "a4a7326c",
   "metadata": {},
   "outputs": [],
   "source": [
    "def initializeParameters(dims):\n",
    "    params = {}\n",
    "    for i in range(1,len(dims)):\n",
    "        params[\"W\"+str(i)] = tf.random.normal((dims[i],dims[i-1]),dtype=tf.float32)*np.sqrt(2/dims[i-1])\n",
    "        params[\"b\" + str(i)] = tf.zeros((dims[i], 1),dtype=tf.float32)\n",
    "    return  params"
   ]
  },
  {
   "cell_type": "markdown",
   "id": "88221e08",
   "metadata": {},
   "source": [
    "### Loss"
   ]
  },
  {
   "cell_type": "code",
   "execution_count": 259,
   "id": "46e8d083",
   "metadata": {},
   "outputs": [],
   "source": [
    "# Calculate Loss\n",
    "def cost(Y,AL,epsilon =1e-5):\n",
    "    return (-1/Y.shape[1])*np.sum(np.multiply(Y,np.log(AL+epsilon))+np.multiply(1-Y,np.log(1-AL+epsilon)))"
   ]
  },
  {
   "cell_type": "markdown",
   "id": "0be79101",
   "metadata": {},
   "source": [
    "### Optimizer"
   ]
  },
  {
   "cell_type": "code",
   "execution_count": 260,
   "id": "549b82a0",
   "metadata": {},
   "outputs": [],
   "source": [
    "def updateParameters(params,grads,learning_rate):\n",
    "    L = len(params)//2\n",
    "    parameters = params.copy()\n",
    "    for i in range(1,L+1):\n",
    "        parameters[\"W\" + str(i)] = params[\"W\" + str(i)] - learning_rate * grads[\"dW\" + str(i)]\n",
    "        parameters[\"b\" + str(i)] = params[\"b\" + str(i)] - learning_rate * grads[\"db\" + str(i)]\n",
    "\n",
    "    return parameters\n"
   ]
  },
  {
   "cell_type": "markdown",
   "id": "fd44f823",
   "metadata": {},
   "source": [
    "### Forward Propagation"
   ]
  },
  {
   "cell_type": "code",
   "execution_count": 261,
   "id": "d5ddcf4a",
   "metadata": {},
   "outputs": [],
   "source": [
    "def forwardPropogation(X, params, dropOutList, keepProp):\n",
    "    cache = {}\n",
    "    L = len(params) // 2\n",
    "    cache[\"A0\"] = X\n",
    "    for i in range(1, L):\n",
    "        cache[\"Z\" + str(i)] = tf.tensordot(params[\"W\" + str(i)], cache[\"A\" + str(i - 1)], axes = 1) + params[\"b\" + str(i)]\n",
    "        cache[\"A\" + str(i)] = tf.nn.relu(cache[\"Z\" + str(i)])\n",
    "        if (dropOutList[i] == 1):\n",
    "            cache[\"D\" + str(i)] = tf.random.normal(cache[\"A\" + str(i)].shape[0], cache[\"A\" + str(i)].shape[1]) < keepProp\n",
    "            cache[\"A\" + str(i)] = (cache[\"A\" + str(i)] * cache[\"D\" + str(i)]) / keepProp\n",
    "\n",
    "    cache[\"Z\" + str(L)] = tf.tensordot(params[\"W\" + str(L)], cache[\"A\" + str(L - 1)],  axes = 1) + params[\"b\" + str(L)]\n",
    "    cache[\"A\" + str(L)] = sigmoid(cache[\"Z\" + str(L)])\n",
    "\n",
    "    return cache[\"A\" + str(L)], cache"
   ]
  },
  {
   "cell_type": "markdown",
   "id": "f1ea168d",
   "metadata": {},
   "source": [
    "### Backward Propagation"
   ]
  },
  {
   "cell_type": "code",
   "execution_count": 262,
   "id": "70a80e34",
   "metadata": {},
   "outputs": [],
   "source": [
    "def backwardPropogation(Y, AL, cache, params, lambd, dropOutList, keepProp):\n",
    "    L = len(params) // 2\n",
    "    m = Y.shape[1]\n",
    "    dAL = -1 * (Y - AL)\n",
    "    grads = {}\n",
    "    grads[\"dA\" + str(L)] = dAL\n",
    "    grads[\"dZ\" + str(L)] = sigmoidBackward(dAL, cache[\"Z\" + str(L)])\n",
    "    grads[\"dA\" + str(L - 1)] = tf.tensordot(tf.transpose(params[\"W\" + str(L)]), grads[\"dZ\" + str(L)], axes = 1)\n",
    "    grads[\"dW\" + str(L)] = tf.tensordot(grads[\"dZ\" + str(L)], tf.transpose(cache[\"A\" + str(L - 1)]),axes = 1) / m + (lambd / m) * np.sum(\n",
    "        params[\"W\" + str(L)])\n",
    "    grads[\"db\" + str(L)] = np.sum(grads[\"dZ\" + str(L)], axis=1, keepdims=True) / m\n",
    "\n",
    "    for i in range(L - 1, 0, -1):\n",
    "        grads[\"dZ\" + str(i)] = reluBackward(grads[\"dA\" + str(i)], cache[\"Z\" + str(i)])\n",
    "\n",
    "        if (i > 1):\n",
    "            grads[\"dA\" + str(i - 1)] = tf.tensordot(tf.transpose(params[\"W\" + str(i)]), grads[\"dZ\" + str(i)],axes = 1)\n",
    "            if (dropOutList[i - 1] == 1):\n",
    "                grads[\"dA\" + str(i - 1)] = (grads[\"dA\" + str(i - 1)] * cache[\"D\" + str(i - 1)]) / keepProp\n",
    "\n",
    "        grads[\"dW\" + str(i)] = tf.tensordot(grads[\"dZ\" + str(i)], tf.transpose(cache[\"A\" + str(i - 1)]),axes = 1) / m + (lambd / m) * np.sum(\n",
    "            params[\"W\" + str(i)])\n",
    "        grads[\"db\" + str(i)] = np.sum(grads[\"dZ\" + str(i)], axis=1, keepdims=True) / m\n",
    "        \n",
    "    return grads\n"
   ]
  },
  {
   "cell_type": "markdown",
   "id": "7ec78bbf",
   "metadata": {},
   "source": [
    "### plotLiveCosts"
   ]
  },
  {
   "cell_type": "code",
   "execution_count": 263,
   "id": "406af340",
   "metadata": {},
   "outputs": [],
   "source": [
    "def plotLiveCosts(values,x_l = \"Iters\", y_l = \"Costs\",title=\"\"):\n",
    "    clear_output(wait=True)\n",
    "    plt.plot(np.squeeze(values))\n",
    "    plt.ylabel(y_l)\n",
    "    plt.xlabel(x_l)\n",
    "    plt.title(title)\n",
    "    plt.show()"
   ]
  },
  {
   "cell_type": "markdown",
   "id": "8da528de",
   "metadata": {},
   "source": [
    "### Batching"
   ]
  },
  {
   "cell_type": "code",
   "execution_count": 264,
   "id": "abd82e7c",
   "metadata": {},
   "outputs": [],
   "source": [
    "def makeBatches(X,Y, batch_size):\n",
    "    dataset = tf.data.Dataset.from_tensor_slices((X,Y))\n",
    "    shuffled_data = dataset.shuffle(1000).repeat()\n",
    "#     batch_data = shuffled_data.batch(batch_size)\n",
    "    return batch_data"
   ]
  },
  {
   "cell_type": "markdown",
   "id": "1634b07e",
   "metadata": {},
   "source": [
    "### Defining Model"
   ]
  },
  {
   "cell_type": "code",
   "execution_count": 265,
   "id": "97c6ce72",
   "metadata": {},
   "outputs": [],
   "source": [
    "# Gets Gradients and Updates Parameters\n",
    "def trainModel(X, Y, learningRate,epochs, batch_size, dims, lambd=0,dropOutList=[],keepProp = 1, params = []):\n",
    "    if(params == []):\n",
    "        params = initializeParameters(dims)\n",
    "    if(dropOutList == []):\n",
    "        dropOutList = np.zeros((len(dims)))\n",
    "    costs = []\n",
    "    if(costs == []):\n",
    "        costs = []\n",
    "    \n",
    "    training_data = X, Y\n",
    "    for i in range(epochs):\n",
    "        for batch in training_data:\n",
    "\n",
    "            \n",
    "            \n",
    "            AL, cache = forwardPropogation(X, params,dropOutList,keepProp)\n",
    "            cost_val = cost(Y,AL)\n",
    "            costs.append(cost_val)\n",
    "            grads = backwardPropogation(Y, AL,cache,params,lambd,dropOutList,keepProp)\n",
    "    #         # Debug\n",
    "    #         print(\".....................\",i)\n",
    "    #         print(\"params\",\":\",params)\n",
    "    #         print(\"cache\", \":\", cache)\n",
    "    #         print(\"Grads\", \":\", grads)\n",
    "\n",
    "            params = updateParameters(params,grads,learningRate)\n",
    "\n",
    "            if(i%10 == 0):\n",
    "                plotLiveCosts(costs)\n",
    "\n",
    "    return params,costs"
   ]
  },
  {
   "cell_type": "code",
   "execution_count": 268,
   "id": "7d169c2b",
   "metadata": {
    "scrolled": false
   },
   "outputs": [
    {
     "data": {
      "image/png": "[encoded data removed]",
      "text/plain": [
       "<Figure size 640x480 with 1 Axes>"
      ]
     },
     "metadata": {},
     "output_type": "display_data"
    }
   ],
   "source": [
    "history = trainModel(features,labels, learning_rate,epochs, batch_size, dims, lambd=0,dropOutList=[],keepProp = 1, params = [])"
   ]
  }
 ],
 "metadata": {
  "kernelspec": {
   "display_name": "Python (GPU_SUP)",
   "language": "python",
   "name": "gpu_sup"
  },
  "language_info": {
   "codemirror_mode": {
    "name": "ipython",
    "version": 3
   },
   "file_extension": ".py",
   "mimetype": "text/x-python",
   "name": "python",
   "nbconvert_exporter": "python",
   "pygments_lexer": "ipython3",
   "version": "3.8.13"
  }
 },
 "nbformat": 4,
 "nbformat_minor": 5
}
